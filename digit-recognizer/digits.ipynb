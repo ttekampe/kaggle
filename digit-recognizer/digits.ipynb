{
 "cells": [
  {
   "cell_type": "code",
   "execution_count": 1,
   "metadata": {
    "collapsed": true
   },
   "outputs": [],
   "source": [
    "from pandas import DataFrame\n",
    "import numpy as np"
   ]
  },
  {
   "cell_type": "code",
   "execution_count": 2,
   "metadata": {
    "collapsed": true
   },
   "outputs": [],
   "source": [
    "train_data = DataFrame.from_csv('data/train.csv')\n",
    "y = train_data.index\n",
    "train_data.index = range(len(train_data))"
   ]
  },
  {
   "cell_type": "code",
   "execution_count": 3,
   "metadata": {},
   "outputs": [],
   "source": [
    "train = train_data.sample(frac=0.9)\n",
    "validate = train_data[~train_data.index.isin(train.index)]"
   ]
  },
  {
   "cell_type": "code",
   "execution_count": 4,
   "metadata": {},
   "outputs": [
    {
     "name": "stdout",
     "output_type": "stream",
     "text": [
      "37800\n",
      "4200\n",
      "42000\n",
      "42000\n"
     ]
    }
   ],
   "source": [
    "print(len(train))\n",
    "print(len(validate))\n",
    "print(len(train) + len(validate))\n",
    "print(len(train_data))"
   ]
  },
  {
   "cell_type": "code",
   "execution_count": 7,
   "metadata": {},
   "outputs": [
    {
     "name": "stderr",
     "output_type": "stream",
     "text": [
      "Using TensorFlow backend.\n"
     ]
    }
   ],
   "source": [
    "from keras.models import Sequential"
   ]
  },
  {
   "cell_type": "code",
   "execution_count": 8,
   "metadata": {},
   "outputs": [
    {
     "name": "stdout",
     "output_type": "stream",
     "text": [
      "37800\n",
      "4200\n"
     ]
    }
   ],
   "source": [
    "from keras.utils.np_utils import to_categorical\n",
    "y_train = to_categorical(y[train.index])\n",
    "y_validate = to_categorical(y[validate.index])\n",
    "print(len(y_train))\n",
    "print(len(y_validate))"
   ]
  },
  {
   "cell_type": "code",
   "execution_count": 9,
   "metadata": {
    "collapsed": true
   },
   "outputs": [],
   "source": [
    "from keras.callbacks import EarlyStopping\n",
    "es = EarlyStopping(min_delta=1e-5, patience=10)"
   ]
  },
  {
   "cell_type": "code",
   "execution_count": 10,
   "metadata": {
    "collapsed": true
   },
   "outputs": [],
   "source": [
    "from keras.layers import Dense, Activation, Dropout\n",
    "from keras.regularizers import l1, l2, l1_l2, L1L2\n",
    "from keras.constraints import max_norm"
   ]
  },
  {
   "cell_type": "code",
   "execution_count": 23,
   "metadata": {},
   "outputs": [],
   "source": [
    "model = None\n",
    "model = Sequential()\n",
    "model.add(\n",
    "    Dense(300, activation='relu', input_dim=(28 * 28), kernel_initializer='TruncatedNormal',\n",
    "))\n",
    "#model.add(Dropout(0.05))\n",
    "model.add(\n",
    "    Dense(300, activation='relu', kernel_initializer='TruncatedNormal',\n",
    "    kernel_regularizer=l2(0.01),\n",
    "    #kernel_constraint=max_norm(2.)\n",
    "))\n",
    "model.add(Dropout(0.3))\n",
    "model.add(\n",
    "    Dense(300, activation='relu', kernel_initializer='TruncatedNormal',\n",
    "    #kernel_regularizer=l2(0.01),\n",
    "    #kernel_constraint=max_norm(2.)\n",
    "))\n",
    "model.add(Dropout(0.3))\n",
    "model.add(\n",
    "    Dense(300, activation='relu', kernel_initializer='TruncatedNormal',\n",
    "    #kernel_regularizer=l2(0.01),\n",
    "    #kernel_constraint=max_norm(2.)\n",
    "))\n",
    "model.add(Dropout(0.3))\n",
    "model.add(\n",
    "    Dense(300, activation='relu', kernel_initializer='TruncatedNormal',\n",
    "    #kernel_regularizer=l2(0.01),\n",
    "    #kernel_constraint=max_norm(2.)\n",
    "))\n",
    "model.add(Dropout(0.3))\n",
    "model.add(Dense(10, activation='softmax'))"
   ]
  },
  {
   "cell_type": "code",
   "execution_count": 24,
   "metadata": {},
   "outputs": [
    {
     "name": "stdout",
     "output_type": "stream",
     "text": [
      "_________________________________________________________________\n",
      "Layer (type)                 Output Shape              Param #   \n",
      "=================================================================\n",
      "dense_7 (Dense)              (None, 300)               235500    \n",
      "_________________________________________________________________\n",
      "dense_8 (Dense)              (None, 300)               90300     \n",
      "_________________________________________________________________\n",
      "dropout_5 (Dropout)          (None, 300)               0         \n",
      "_________________________________________________________________\n",
      "dense_9 (Dense)              (None, 300)               90300     \n",
      "_________________________________________________________________\n",
      "dropout_6 (Dropout)          (None, 300)               0         \n",
      "_________________________________________________________________\n",
      "dense_10 (Dense)             (None, 300)               90300     \n",
      "_________________________________________________________________\n",
      "dropout_7 (Dropout)          (None, 300)               0         \n",
      "_________________________________________________________________\n",
      "dense_11 (Dense)             (None, 300)               90300     \n",
      "_________________________________________________________________\n",
      "dropout_8 (Dropout)          (None, 300)               0         \n",
      "_________________________________________________________________\n",
      "dense_12 (Dense)             (None, 10)                3010      \n",
      "=================================================================\n",
      "Total params: 599,710\n",
      "Trainable params: 599,710\n",
      "Non-trainable params: 0\n",
      "_________________________________________________________________\n"
     ]
    }
   ],
   "source": [
    "from keras.optimizers import RMSprop\n",
    "model.summary()\n",
    "model.compile(\n",
    "    optimizer=\"adam\",#RMSprop(lr=0.001),\n",
    "    loss='categorical_crossentropy',\n",
    "    metrics=['accuracy']\n",
    ")"
   ]
  },
  {
   "cell_type": "code",
   "execution_count": 25,
   "metadata": {},
   "outputs": [
    {
     "name": "stdout",
     "output_type": "stream",
     "text": [
      "Train on 37800 samples, validate on 4200 samples\n",
      "Epoch 1/500\n",
      "5s - loss: 0.8061 - acc: 0.8476 - val_loss: 0.2705 - val_acc: 0.9471\n",
      "Epoch 2/500\n",
      "4s - loss: 0.2403 - acc: 0.9534 - val_loss: 0.2726 - val_acc: 0.9467\n",
      "Epoch 3/500\n",
      "4s - loss: 0.1899 - acc: 0.9647 - val_loss: 0.2014 - val_acc: 0.9640\n",
      "Epoch 4/500\n",
      "4s - loss: 0.1646 - acc: 0.9702 - val_loss: 0.2017 - val_acc: 0.9638\n",
      "Epoch 5/500\n",
      "4s - loss: 0.1443 - acc: 0.9762 - val_loss: 0.2102 - val_acc: 0.9629\n",
      "Epoch 6/500\n",
      "4s - loss: 0.1300 - acc: 0.9790 - val_loss: 0.1914 - val_acc: 0.9664\n",
      "Epoch 7/500\n",
      "4s - loss: 0.1260 - acc: 0.9796 - val_loss: 0.2134 - val_acc: 0.9640\n",
      "Epoch 8/500\n",
      "4s - loss: 0.1191 - acc: 0.9813 - val_loss: 0.2069 - val_acc: 0.9650\n",
      "Epoch 9/500\n",
      "4s - loss: 0.1073 - acc: 0.9839 - val_loss: 0.1885 - val_acc: 0.9688\n",
      "Epoch 10/500\n",
      "4s - loss: 0.1020 - acc: 0.9857 - val_loss: 0.2169 - val_acc: 0.9648\n",
      "Epoch 11/500\n",
      "4s - loss: 0.0983 - acc: 0.9860 - val_loss: 0.2280 - val_acc: 0.9643\n",
      "Epoch 12/500\n",
      "4s - loss: 0.0938 - acc: 0.9868 - val_loss: 0.1963 - val_acc: 0.9674\n",
      "Epoch 13/500\n",
      "4s - loss: 0.0874 - acc: 0.9885 - val_loss: 0.1945 - val_acc: 0.9695\n",
      "Epoch 14/500\n",
      "4s - loss: 0.0890 - acc: 0.9878 - val_loss: 0.1847 - val_acc: 0.9679\n",
      "Epoch 15/500\n",
      "4s - loss: 0.0861 - acc: 0.9885 - val_loss: 0.1998 - val_acc: 0.9667\n",
      "Epoch 16/500\n",
      "4s - loss: 0.0850 - acc: 0.9886 - val_loss: 0.2241 - val_acc: 0.9671\n",
      "Epoch 17/500\n",
      "4s - loss: 0.0835 - acc: 0.9891 - val_loss: 0.2171 - val_acc: 0.9669\n",
      "Epoch 18/500\n",
      "4s - loss: 0.0811 - acc: 0.9901 - val_loss: 0.2090 - val_acc: 0.9693\n",
      "Epoch 19/500\n",
      "4s - loss: 0.0787 - acc: 0.9908 - val_loss: 0.2227 - val_acc: 0.9679\n",
      "Epoch 20/500\n",
      "4s - loss: 0.0772 - acc: 0.9907 - val_loss: 0.2186 - val_acc: 0.9693\n",
      "Epoch 21/500\n",
      "4s - loss: 0.0737 - acc: 0.9915 - val_loss: 0.2159 - val_acc: 0.9657\n",
      "Epoch 22/500\n",
      "4s - loss: 0.0685 - acc: 0.9920 - val_loss: 0.2344 - val_acc: 0.9667\n",
      "Epoch 23/500\n",
      "4s - loss: 0.0738 - acc: 0.9913 - val_loss: 0.2081 - val_acc: 0.9683\n",
      "Epoch 24/500\n",
      "4s - loss: 0.0659 - acc: 0.9926 - val_loss: 0.2252 - val_acc: 0.9681\n",
      "Epoch 25/500\n",
      "4s - loss: 0.0688 - acc: 0.9922 - val_loss: 0.2224 - val_acc: 0.9710\n"
     ]
    }
   ],
   "source": [
    "history = model.fit(\n",
    "    train.as_matrix() / 255.0,\n",
    "    y_train,\n",
    "    validation_data=(validate.as_matrix() / 255.0, y_validate), \n",
    "    epochs=500,\n",
    "    batch_size=128,\n",
    "    verbose=2,\n",
    "    callbacks=[es]\n",
    ")"
   ]
  },
  {
   "cell_type": "markdown",
   "metadata": {},
   "source": [
    "# Test model on validation sample\n",
    "This should yield the same score as the val_acc in the output of the training above"
   ]
  },
  {
   "cell_type": "code",
   "execution_count": 26,
   "metadata": {
    "collapsed": true
   },
   "outputs": [],
   "source": [
    "val_predictions = model.predict_classes(validate.as_matrix() / 255.0, verbose=0)"
   ]
  },
  {
   "cell_type": "code",
   "execution_count": 27,
   "metadata": {},
   "outputs": [
    {
     "name": "stdout",
     "output_type": "stream",
     "text": [
      "0.970952380952\n"
     ]
    }
   ],
   "source": [
    "from sklearn.metrics import accuracy_score\n",
    "print(accuracy_score(y[validate.index], val_predictions))"
   ]
  },
  {
   "cell_type": "markdown",
   "metadata": {},
   "source": [
    "# Prepare submission"
   ]
  },
  {
   "cell_type": "code",
   "execution_count": 28,
   "metadata": {
    "collapsed": true
   },
   "outputs": [],
   "source": [
    "target_data = DataFrame.from_csv('data/test.csv', index_col=None)"
   ]
  },
  {
   "cell_type": "code",
   "execution_count": 29,
   "metadata": {},
   "outputs": [],
   "source": [
    "predictions = model.predict_classes(target_data.as_matrix() / 255.0, verbose=0)"
   ]
  },
  {
   "cell_type": "code",
   "execution_count": 30,
   "metadata": {},
   "outputs": [
    {
     "name": "stdout",
     "output_type": "stream",
     "text": [
      "[2 0 9 ..., 3 9 2]\n"
     ]
    }
   ],
   "source": [
    "print(predictions)"
   ]
  },
  {
   "cell_type": "code",
   "execution_count": 31,
   "metadata": {},
   "outputs": [],
   "source": [
    "np.savetxt('digit_prediction.csv', \n",
    "           np.c_[range(1,len(target_data)+1),predictions], \n",
    "           delimiter=',', \n",
    "           header = 'ImageId,Label', \n",
    "           comments = '', \n",
    "           fmt='%d')"
   ]
  },
  {
   "cell_type": "code",
   "execution_count": null,
   "metadata": {
    "collapsed": true
   },
   "outputs": [],
   "source": []
  }
 ],
 "metadata": {
  "kernelspec": {
   "display_name": "Python 3",
   "language": "python",
   "name": "python3"
  },
  "language_info": {
   "codemirror_mode": {
    "name": "ipython",
    "version": 3
   },
   "file_extension": ".py",
   "mimetype": "text/x-python",
   "name": "python",
   "nbconvert_exporter": "python",
   "pygments_lexer": "ipython3",
   "version": "3.6.1"
  }
 },
 "nbformat": 4,
 "nbformat_minor": 2
}
