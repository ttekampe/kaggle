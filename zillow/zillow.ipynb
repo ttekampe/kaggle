{
 "cells": [
  {
   "cell_type": "markdown",
   "metadata": {},
   "source": [
    "| Feature | Description |\n",
    "|---------|:-----------:|\n",
    "|'airconditioningtypeid' |\t Type of cooling system present in the home (if any) |\n",
    "|'architecturalstyletypeid' |\t Architectural style of the home (i.e. ranch, colonial, split-level, etc…) |\n",
    "|'basementsqft' |\t Finished living area below or partially below ground level |\n",
    "|'bathroomcnt' |\t Number of bathrooms in home including fractional bathrooms |\n",
    "|'bedroomcnt' |\t Number of bedrooms in home  |\n",
    "|'buildingqualitytypeid' |\t Overall assessment of condition of the building from best (lowest) to worst (highest) |\n",
    "|'buildingclasstypeid' |\tThe building framing type (steel frame, wood frame, concrete/brick)  |\n",
    "|'calculatedbathnbr' |\t Number of bathrooms in home including fractional bathroom |\n",
    "|'decktypeid' |\tType of deck (if any) present on parcel |\n",
    "|'threequarterbathnbr' |\t Number of 3/4 bathrooms in house (shower + sink + toilet) |\n",
    "|'finishedfloor1squarefeet' |\t Size of the finished living area on the first (entry) floor of the home |\n",
    "|'calculatedfinishedsquarefeet' |\t Calculated total finished living area of the home  |\n",
    "|'finishedsquarefeet6' |\tBase unfinished and finished area |\n",
    "|'finishedsquarefeet12' |\tFinished living area |\n",
    "|'finishedsquarefeet13' |\tPerimeter  living area |\n",
    "|'finishedsquarefeet15' |\tTotal area |\n",
    "|'finishedsquarefeet50' |\t Size of the finished living area on the first (entry) floor of the home |\n",
    "|'fips' |\t Federal Information Processing Standard code -  see https://en.wikipedia.org/wiki/FIPS_county_code for more details |\n",
    "|'fireplacecnt' |\t Number of fireplaces in a home (if any) |\n",
    "|'fireplaceflag' |\t Is a fireplace present in this home  |\n",
    "|'fullbathcnt' |\t Number of full bathrooms (sink, shower + bathtub, and toilet) present in home |\n",
    "|'garagecarcnt' |\t Total number of garages on the lot including an attached garage |\n",
    "|'garagetotalsqft' |\t Total number of square feet of all garages on lot including an attached garage |\n",
    "|'hashottuborspa' |\t Does the home have a hot tub or spa |\n",
    "|'heatingorsystemtypeid' |\t Type of home heating system |\n",
    "|'latitude' |\t Latitude of the middle of the parcel multiplied by 10e6 |\n",
    "|'longitude' |\t Longitude of the middle of the parcel multiplied by 10e6 |\n",
    "|'lotsizesquarefeet' |\t Area of the lot in square feet |\n",
    "|'numberofstories' |\t Number of stories or levels the home has |\n",
    "|'parcelid' |\t Unique identifier for parcels (lots)  |\n",
    "|'poolcnt' |\t Number of pools on the lot (if any) |\n",
    "|'poolsizesum' |\t Total square footage of all pools on property |\n",
    "|'pooltypeid10' |\t Spa or Hot Tub |\n",
    "|'pooltypeid2' |\t Pool with Spa/Hot Tub |\n",
    "|'pooltypeid7' |\t Pool without hot tub |\n",
    "|'propertycountylandusecode' |\t County land use code i.e. it's zoning at the county level |\n",
    "|'propertylandusetypeid' |\t Type of land use the property is zoned for |\n",
    "|'propertyzoningdesc' |\t Description of the allowed land uses (zoning) for that property |\n",
    "|'rawcensustractandblock' |\t Census tract and block ID combined - also contains blockgroup assignment by extension |\n",
    "|'censustractandblock' |\t Census tract and block ID combined - also contains blockgroup assignment by extension |\n",
    "|'regionidcounty' |\tCounty in which the property is located |\n",
    "|'regionidcity' |\t City in which the property is located (if any) |\n",
    "|'regionidzip' |\t Zip code in which the property is located |\n",
    "|'regionidneighborhood' |\tNeighborhood in which the property is located |\n",
    "|'roomcnt' |\t Total number of rooms in the principal residence |\n",
    "|'storytypeid' |\t Type of floors in a multi-story house (i.e. basement and main level, split-level, attic, etc.).  See tab for details. |\n",
    "|'typeconstructiontypeid' |\t What type of construction material was used to construct the home |\n",
    "|'unitcnt' |\t Number of units the structure is built into (i.e. 2 = duplex, 3 = triplex, etc...) |\n",
    "|'yardbuildingsqft17' |\tPatio in  yard |\n",
    "|'yardbuildingsqft26' |\tStorage shed/building in yard |\n",
    "|'yearbuilt' |\t The Year the principal residence was built  |\n",
    "|'taxvaluedollarcnt' |\tThe total tax assessed value of the parcel |\n",
    "|'structuretaxvaluedollarcnt' |\tThe assessed value of the built structure on the parcel |\n",
    "|'landtaxvaluedollarcnt' |\tThe assessed value of the land area of the parcel |\n",
    "|'taxamount' |\tThe total property tax assessed for that assessment year |\n",
    "|'assessmentyear' |\tThe year of the property tax assessment  |\n",
    "|'taxdelinquencyflag' |\tProperty taxes for this parcel are past due as of 2015 |\n",
    "|'taxdelinquencyyear' |\tYear for which the unpaid propert taxes were due  |\n",
    "| | |"
   ]
  },
  {
   "cell_type": "code",
   "execution_count": 1,
   "metadata": {
    "collapsed": true
   },
   "outputs": [],
   "source": [
    "# pred.to_csv('zillow_prediction.csv', index=False, float_format='%.4g')\n",
    "import pandas as pd\n",
    "import numpy as np\n",
    "import matplotlib.pyplot as plt\n",
    "import seaborn as sns\n",
    "%matplotlib notebook"
   ]
  },
  {
   "cell_type": "code",
   "execution_count": 2,
   "metadata": {},
   "outputs": [],
   "source": [
    "data_y = pd.DataFrame.from_csv('data/train_2016.csv', parse_dates=['transactiondate'], index_col=None)"
   ]
  },
  {
   "cell_type": "code",
   "execution_count": 3,
   "metadata": {},
   "outputs": [],
   "source": [
    "data_X = pd.read_csv(\n",
    "    'data/properties_2016.csv',\n",
    "    index_col=None,\n",
    "    dtype={\n",
    "        'hashottuborspa': np.bool,\n",
    "        'propertycountylandusecode': np.str,\n",
    "        'propertyzoningdesc': np.str,\n",
    "        'fireplaceflag': np.bool,\n",
    "        'taxdelinquencyflag': np.str}\n",
    ")"
   ]
  },
  {
   "cell_type": "code",
   "execution_count": 4,
   "metadata": {},
   "outputs": [
    {
     "name": "stdout",
     "output_type": "stream",
     "text": [
      "[nan 'Y']\n"
     ]
    }
   ],
   "source": [
    "print(data_X['taxdelinquencyflag'].unique())\n",
    "data_X['taxdelinquencyflag'] = data_X['taxdelinquencyflag'].map({'Y': True})"
   ]
  },
  {
   "cell_type": "code",
   "execution_count": 5,
   "metadata": {},
   "outputs": [],
   "source": [
    "merged_data = data_y.merge(data_X, on='parcelid')"
   ]
  },
  {
   "cell_type": "code",
   "execution_count": 6,
   "metadata": {},
   "outputs": [
    {
     "data": {
      "text/plain": [
       "parcelid                        False\n",
       "logerror                        False\n",
       "transactiondate                 False\n",
       "airconditioningtypeid            True\n",
       "architecturalstyletypeid         True\n",
       "basementsqft                     True\n",
       "bathroomcnt                      True\n",
       "bedroomcnt                       True\n",
       "buildingclasstypeid              True\n",
       "buildingqualitytypeid            True\n",
       "calculatedbathnbr                True\n",
       "decktypeid                       True\n",
       "finishedfloor1squarefeet         True\n",
       "calculatedfinishedsquarefeet     True\n",
       "finishedsquarefeet12             True\n",
       "finishedsquarefeet13             True\n",
       "finishedsquarefeet15             True\n",
       "finishedsquarefeet50             True\n",
       "finishedsquarefeet6              True\n",
       "fips                             True\n",
       "fireplacecnt                     True\n",
       "fullbathcnt                      True\n",
       "garagecarcnt                     True\n",
       "garagetotalsqft                  True\n",
       "hashottuborspa                   True\n",
       "heatingorsystemtypeid            True\n",
       "latitude                         True\n",
       "longitude                        True\n",
       "lotsizesquarefeet                True\n",
       "poolcnt                          True\n",
       "poolsizesum                      True\n",
       "pooltypeid10                     True\n",
       "pooltypeid2                      True\n",
       "pooltypeid7                      True\n",
       "propertycountylandusecode        True\n",
       "propertylandusetypeid            True\n",
       "propertyzoningdesc               True\n",
       "rawcensustractandblock           True\n",
       "regionidcity                     True\n",
       "regionidcounty                   True\n",
       "regionidneighborhood             True\n",
       "regionidzip                      True\n",
       "roomcnt                          True\n",
       "storytypeid                      True\n",
       "threequarterbathnbr              True\n",
       "typeconstructiontypeid           True\n",
       "unitcnt                          True\n",
       "yardbuildingsqft17               True\n",
       "yardbuildingsqft26               True\n",
       "yearbuilt                        True\n",
       "numberofstories                  True\n",
       "fireplaceflag                    True\n",
       "structuretaxvaluedollarcnt       True\n",
       "taxvaluedollarcnt                True\n",
       "assessmentyear                   True\n",
       "landtaxvaluedollarcnt            True\n",
       "taxamount                        True\n",
       "taxdelinquencyflag               True\n",
       "taxdelinquencyyear               True\n",
       "censustractandblock              True\n",
       "dtype: bool"
      ]
     },
     "execution_count": 6,
     "metadata": {},
     "output_type": "execute_result"
    }
   ],
   "source": [
    "pd.isnull(merged_data).sum() > 0"
   ]
  },
  {
   "cell_type": "code",
   "execution_count": 7,
   "metadata": {},
   "outputs": [
    {
     "data": {
      "text/plain": [
       "array([   nan,   814.,   330.,   168.,   671.,  1555.,  1528.,   771.,\n",
       "         700.,   831.,  1048.,  1312.,   690.,   564.,   198.,   676.,\n",
       "         184.,   540.,   260.,   557.,   312.,   913.,  1350.,   802.,\n",
       "         162.,   616.,  1551.,   485.,   238.,   493.,   760.,   515.,\n",
       "         196.,   585.,   234.,   510.,   579.,   100.,   608.,  1210.])"
      ]
     },
     "execution_count": 7,
     "metadata": {},
     "output_type": "execute_result"
    }
   ],
   "source": [
    "merged_data['basementsqft'].unique()"
   ]
  },
  {
   "cell_type": "code",
   "execution_count": 17,
   "metadata": {},
   "outputs": [
    {
     "name": "stdout",
     "output_type": "stream",
     "text": [
      "[ True]\n",
      "[ True]\n",
      "[ True]\n"
     ]
    }
   ],
   "source": [
    "print(merged_data['hashottuborspa'].unique())\n",
    "print(merged_data['fireplaceflag'].unique())\n",
    "print(merged_data['taxdelinquencyflag'].unique())\n",
    "for f in ['hashottuborspa', 'fireplaceflag', 'taxdelinquencyflag']:\n",
    "    merged_data[f] = merged_data[f].astype(np.bool)"
   ]
  },
  {
   "cell_type": "code",
   "execution_count": 24,
   "metadata": {},
   "outputs": [
    {
     "name": "stdout",
     "output_type": "stream",
     "text": [
      "81730\n",
      "9081\n",
      "90811\n",
      "90811\n"
     ]
    }
   ],
   "source": [
    "train = merged_data.sample(frac=0.9)\n",
    "test = merged_data[~merged_data.index.isin(train.index)]\n",
    "print(len(train))\n",
    "print(len(test))\n",
    "print(len(train) + len(test))\n",
    "print(len(merged_data))"
   ]
  },
  {
   "cell_type": "code",
   "execution_count": 25,
   "metadata": {
    "collapsed": true
   },
   "outputs": [],
   "source": [
    "train_X = train.drop(\n",
    "        ['parcelid', 'logerror', 'transactiondate', 'propertyzoningdesc', 'propertycountylandusecode'],\n",
    "        axis=1\n",
    "    )\n",
    "test_X = test.drop(\n",
    "        ['parcelid', 'logerror', 'transactiondate', 'propertyzoningdesc', 'propertycountylandusecode'],\n",
    "        axis=1\n",
    "    )\n",
    "\n",
    "train_y = train['logerror']\n",
    "test_y = test['logerror']"
   ]
  },
  {
   "cell_type": "code",
   "execution_count": 26,
   "metadata": {},
   "outputs": [],
   "source": [
    "from xgboost.sklearn import XGBRegressor\n",
    "\n",
    "hyper_params = {\n",
    "    'base_score': 0.5,\n",
    "    'colsample_bylevel': 1,\n",
    "    'colsample_bytree': 0.7,\n",
    "    'gamma': 0.3,\n",
    "    'learning_rate': 0.1,\n",
    "    'max_delta_step': 0,\n",
    "    'max_depth': 5,\n",
    "    'min_child_weight': 5,\n",
    "    'missing': None,\n",
    "    'n_estimators': 800,\n",
    "    'n_jobs': 2,\n",
    "    'objective': 'reg:linear',\n",
    "    'reg_alpha': 1.7,\n",
    "    'reg_lambda': 1,\n",
    "    'scale_pos_weight': 1,\n",
    "    'silent': 0,\n",
    "    'subsample': 0.95\n",
    "}\n",
    "clf=None\n",
    "clf = XGBRegressor(**hyper_params)"
   ]
  },
  {
   "cell_type": "code",
   "execution_count": 54,
   "metadata": {
    "collapsed": true
   },
   "outputs": [],
   "source": [
    "from sklearn.metrics import mean_squared_error\n",
    "eval_set = [(train_X.values, train_y.values), (test_X.values, test_y.values)]\n"
   ]
  },
  {
   "cell_type": "code",
   "execution_count": 58,
   "metadata": {},
   "outputs": [
    {
     "name": "stdout",
     "output_type": "stream",
     "text": [
      "[0]\tvalidation_0-mae:0.449683\tvalidation_1-mae:0.449957\n",
      "Multiple eval metrics have been passed: 'validation_1-mae' will be used for early stopping.\n",
      "\n",
      "Will train until validation_1-mae hasn't improved in 10 rounds.\n",
      "[1]\tvalidation_0-mae:0.406673\tvalidation_1-mae:0.406882\n",
      "[2]\tvalidation_0-mae:0.368152\tvalidation_1-mae:0.368203\n",
      "[3]\tvalidation_0-mae:0.33367\tvalidation_1-mae:0.33357\n",
      "[4]\tvalidation_0-mae:0.302804\tvalidation_1-mae:0.302578\n",
      "[5]\tvalidation_0-mae:0.275256\tvalidation_1-mae:0.274912\n",
      "[6]\tvalidation_0-mae:0.250657\tvalidation_1-mae:0.250176\n",
      "[7]\tvalidation_0-mae:0.228744\tvalidation_1-mae:0.22812\n",
      "[8]\tvalidation_0-mae:0.209192\tvalidation_1-mae:0.20846\n",
      "[9]\tvalidation_0-mae:0.191802\tvalidation_1-mae:0.191\n",
      "[10]\tvalidation_0-mae:0.176346\tvalidation_1-mae:0.175518\n",
      "[11]\tvalidation_0-mae:0.162604\tvalidation_1-mae:0.161755\n",
      "[12]\tvalidation_0-mae:0.150391\tvalidation_1-mae:0.149619\n",
      "[13]\tvalidation_0-mae:0.139613\tvalidation_1-mae:0.138858\n",
      "[14]\tvalidation_0-mae:0.130124\tvalidation_1-mae:0.129385\n",
      "[15]\tvalidation_0-mae:0.12176\tvalidation_1-mae:0.121046\n",
      "[16]\tvalidation_0-mae:0.114418\tvalidation_1-mae:0.113747\n",
      "[17]\tvalidation_0-mae:0.107991\tvalidation_1-mae:0.107402\n",
      "[18]\tvalidation_0-mae:0.102407\tvalidation_1-mae:0.101821\n",
      "[19]\tvalidation_0-mae:0.09754\tvalidation_1-mae:0.096969\n",
      "[20]\tvalidation_0-mae:0.093295\tvalidation_1-mae:0.092753\n",
      "[21]\tvalidation_0-mae:0.089641\tvalidation_1-mae:0.089147\n",
      "[22]\tvalidation_0-mae:0.0865\tvalidation_1-mae:0.086038\n",
      "[23]\tvalidation_0-mae:0.083819\tvalidation_1-mae:0.083374\n",
      "[24]\tvalidation_0-mae:0.081517\tvalidation_1-mae:0.081113\n",
      "[25]\tvalidation_0-mae:0.079563\tvalidation_1-mae:0.079195\n",
      "[26]\tvalidation_0-mae:0.077898\tvalidation_1-mae:0.07755\n",
      "[27]\tvalidation_0-mae:0.076487\tvalidation_1-mae:0.07617\n",
      "[28]\tvalidation_0-mae:0.075293\tvalidation_1-mae:0.075004\n",
      "[29]\tvalidation_0-mae:0.074268\tvalidation_1-mae:0.074014\n",
      "[30]\tvalidation_0-mae:0.073411\tvalidation_1-mae:0.073198\n",
      "[31]\tvalidation_0-mae:0.072702\tvalidation_1-mae:0.072505\n",
      "[32]\tvalidation_0-mae:0.072085\tvalidation_1-mae:0.071867\n",
      "[33]\tvalidation_0-mae:0.071546\tvalidation_1-mae:0.071359\n",
      "[34]\tvalidation_0-mae:0.071106\tvalidation_1-mae:0.070954\n",
      "[35]\tvalidation_0-mae:0.070727\tvalidation_1-mae:0.070604\n",
      "[36]\tvalidation_0-mae:0.070391\tvalidation_1-mae:0.07028\n",
      "[37]\tvalidation_0-mae:0.070133\tvalidation_1-mae:0.070015\n",
      "[38]\tvalidation_0-mae:0.069921\tvalidation_1-mae:0.069806\n",
      "[39]\tvalidation_0-mae:0.069735\tvalidation_1-mae:0.069623\n",
      "[40]\tvalidation_0-mae:0.069572\tvalidation_1-mae:0.06947\n",
      "[41]\tvalidation_0-mae:0.069424\tvalidation_1-mae:0.069348\n",
      "[42]\tvalidation_0-mae:0.0693\tvalidation_1-mae:0.069224\n",
      "[43]\tvalidation_0-mae:0.069199\tvalidation_1-mae:0.069146\n",
      "[44]\tvalidation_0-mae:0.069115\tvalidation_1-mae:0.069068\n",
      "[45]\tvalidation_0-mae:0.06903\tvalidation_1-mae:0.068998\n",
      "[46]\tvalidation_0-mae:0.068962\tvalidation_1-mae:0.068938\n",
      "[47]\tvalidation_0-mae:0.068912\tvalidation_1-mae:0.068888\n",
      "[48]\tvalidation_0-mae:0.068855\tvalidation_1-mae:0.068852\n",
      "[49]\tvalidation_0-mae:0.068802\tvalidation_1-mae:0.068829\n",
      "[50]\tvalidation_0-mae:0.068763\tvalidation_1-mae:0.068804\n",
      "[51]\tvalidation_0-mae:0.068718\tvalidation_1-mae:0.068776\n",
      "[52]\tvalidation_0-mae:0.068685\tvalidation_1-mae:0.068752\n",
      "[53]\tvalidation_0-mae:0.068654\tvalidation_1-mae:0.06873\n",
      "[54]\tvalidation_0-mae:0.068625\tvalidation_1-mae:0.068736\n",
      "[55]\tvalidation_0-mae:0.068604\tvalidation_1-mae:0.068724\n",
      "[56]\tvalidation_0-mae:0.068574\tvalidation_1-mae:0.068697\n",
      "[57]\tvalidation_0-mae:0.06855\tvalidation_1-mae:0.068676\n",
      "[58]\tvalidation_0-mae:0.06853\tvalidation_1-mae:0.068652\n",
      "[59]\tvalidation_0-mae:0.068507\tvalidation_1-mae:0.06864\n",
      "[60]\tvalidation_0-mae:0.068492\tvalidation_1-mae:0.068646\n",
      "[61]\tvalidation_0-mae:0.068478\tvalidation_1-mae:0.068638\n",
      "[62]\tvalidation_0-mae:0.068466\tvalidation_1-mae:0.068623\n",
      "[63]\tvalidation_0-mae:0.068455\tvalidation_1-mae:0.068614\n",
      "[64]\tvalidation_0-mae:0.06845\tvalidation_1-mae:0.068622\n",
      "[65]\tvalidation_0-mae:0.068435\tvalidation_1-mae:0.068635\n",
      "[66]\tvalidation_0-mae:0.068426\tvalidation_1-mae:0.068647\n",
      "[67]\tvalidation_0-mae:0.068422\tvalidation_1-mae:0.068646\n",
      "[68]\tvalidation_0-mae:0.06841\tvalidation_1-mae:0.068659\n",
      "[69]\tvalidation_0-mae:0.068393\tvalidation_1-mae:0.068652\n",
      "[70]\tvalidation_0-mae:0.06838\tvalidation_1-mae:0.068647\n",
      "[71]\tvalidation_0-mae:0.068368\tvalidation_1-mae:0.068639\n",
      "[72]\tvalidation_0-mae:0.068362\tvalidation_1-mae:0.068639\n",
      "[73]\tvalidation_0-mae:0.068354\tvalidation_1-mae:0.068634\n",
      "Stopping. Best iteration:\n",
      "[63]\tvalidation_0-mae:0.068455\tvalidation_1-mae:0.068614\n",
      "\n"
     ]
    },
    {
     "data": {
      "text/plain": [
       "XGBRegressor(base_score=0.5, booster='gbtree', colsample_bylevel=1,\n",
       "       colsample_bytree=0.7, gamma=0.3, learning_rate=0.1,\n",
       "       max_delta_step=0, max_depth=5, min_child_weight=5, missing=None,\n",
       "       n_estimators=800, n_jobs=2, nthread=2, objective='reg:linear',\n",
       "       random_state=0, reg_alpha=1.7, reg_lambda=1, scale_pos_weight=1,\n",
       "       seed=0, silent=0, subsample=0.95)"
      ]
     },
     "execution_count": 58,
     "metadata": {},
     "output_type": "execute_result"
    }
   ],
   "source": [
    "clf.fit(\n",
    "    X=train_X.values,\n",
    "    y=train_y.values,\n",
    "    early_stopping_rounds=10,\n",
    "    eval_set=eval_set,\n",
    "    verbose=True,\n",
    "    eval_metric='mae'\n",
    ")"
   ]
  },
  {
   "cell_type": "code",
   "execution_count": 59,
   "metadata": {},
   "outputs": [],
   "source": [
    "pred = clf.predict(test_X.values)"
   ]
  },
  {
   "cell_type": "code",
   "execution_count": 60,
   "metadata": {},
   "outputs": [
    {
     "data": {
      "text/plain": [
       "0.026327383887581608"
      ]
     },
     "execution_count": 60,
     "metadata": {},
     "output_type": "execute_result"
    }
   ],
   "source": [
    "mean_squared_error(test_y, pred)"
   ]
  },
  {
   "cell_type": "code",
   "execution_count": 61,
   "metadata": {},
   "outputs": [
    {
     "name": "stdout",
     "output_type": "stream",
     "text": [
      "0.0276\t0.0049159228801727295\n",
      "0.008\t0.004741460084915161\n",
      "-0.0294\t0.005183398723602295\n",
      "-0.0222\t0.015986382961273193\n",
      "0.0526\t0.0122147798538208\n",
      "0.0411\t0.021196722984313965\n",
      "0.0402\t0.030481994152069092\n",
      "-0.044000000000000004\t0.009989768266677856\n",
      "0.003\t0.010458201169967651\n",
      "0.0208\t-0.0037955045700073242\n",
      "-0.6368\t-0.03178513050079346\n",
      "0.0554\t0.00976794958114624\n",
      "0.179\t0.0017482340335845947\n",
      "0.0344\t0.01780661940574646\n",
      "-0.0263\t-0.029414892196655273\n",
      "-0.0661\t-0.17247837781906128\n",
      "-0.0545\t-0.016630589962005615\n",
      "0.006999999999999999\t0.007565706968307495\n",
      "-0.408\t-0.027644693851470947\n",
      "-0.006\t0.02229270339012146\n",
      "-0.006\t0.006953537464141846\n"
     ]
    }
   ],
   "source": [
    "i = 0\n",
    "for t, p in zip(test_y, pred):\n",
    "    print('{}\\t{}'.format(t, p))\n",
    "    i+=1\n",
    "    if i>20:\n",
    "        break"
   ]
  },
  {
   "cell_type": "code",
   "execution_count": 53,
   "metadata": {
    "collapsed": true
   },
   "outputs": [],
   "source": [
    "clf.fit?"
   ]
  },
  {
   "cell_type": "code",
   "execution_count": 79,
   "metadata": {
    "collapsed": true
   },
   "outputs": [],
   "source": [
    "target_data = pd.read_csv('data/sample_submission.csv')"
   ]
  },
  {
   "cell_type": "code",
   "execution_count": 80,
   "metadata": {},
   "outputs": [
    {
     "name": "stdout",
     "output_type": "stream",
     "text": [
      "2985217\n"
     ]
    },
    {
     "data": {
      "text/html": [
       "<div>\n",
       "<style>\n",
       "    .dataframe thead tr:only-child th {\n",
       "        text-align: right;\n",
       "    }\n",
       "\n",
       "    .dataframe thead th {\n",
       "        text-align: left;\n",
       "    }\n",
       "\n",
       "    .dataframe tbody tr th {\n",
       "        vertical-align: top;\n",
       "    }\n",
       "</style>\n",
       "<table border=\"1\" class=\"dataframe\">\n",
       "  <thead>\n",
       "    <tr style=\"text-align: right;\">\n",
       "      <th></th>\n",
       "      <th>ParcelId</th>\n",
       "      <th>201610</th>\n",
       "      <th>201611</th>\n",
       "      <th>201612</th>\n",
       "      <th>201710</th>\n",
       "      <th>201711</th>\n",
       "      <th>201712</th>\n",
       "    </tr>\n",
       "  </thead>\n",
       "  <tbody>\n",
       "    <tr>\n",
       "      <th>0</th>\n",
       "      <td>10754147</td>\n",
       "      <td>0</td>\n",
       "      <td>0</td>\n",
       "      <td>0</td>\n",
       "      <td>0</td>\n",
       "      <td>0</td>\n",
       "      <td>0</td>\n",
       "    </tr>\n",
       "    <tr>\n",
       "      <th>1</th>\n",
       "      <td>10759547</td>\n",
       "      <td>0</td>\n",
       "      <td>0</td>\n",
       "      <td>0</td>\n",
       "      <td>0</td>\n",
       "      <td>0</td>\n",
       "      <td>0</td>\n",
       "    </tr>\n",
       "    <tr>\n",
       "      <th>2</th>\n",
       "      <td>10843547</td>\n",
       "      <td>0</td>\n",
       "      <td>0</td>\n",
       "      <td>0</td>\n",
       "      <td>0</td>\n",
       "      <td>0</td>\n",
       "      <td>0</td>\n",
       "    </tr>\n",
       "    <tr>\n",
       "      <th>3</th>\n",
       "      <td>10859147</td>\n",
       "      <td>0</td>\n",
       "      <td>0</td>\n",
       "      <td>0</td>\n",
       "      <td>0</td>\n",
       "      <td>0</td>\n",
       "      <td>0</td>\n",
       "    </tr>\n",
       "    <tr>\n",
       "      <th>4</th>\n",
       "      <td>10879947</td>\n",
       "      <td>0</td>\n",
       "      <td>0</td>\n",
       "      <td>0</td>\n",
       "      <td>0</td>\n",
       "      <td>0</td>\n",
       "      <td>0</td>\n",
       "    </tr>\n",
       "  </tbody>\n",
       "</table>\n",
       "</div>"
      ],
      "text/plain": [
       "   ParcelId  201610  201611  201612  201710  201711  201712\n",
       "0  10754147       0       0       0       0       0       0\n",
       "1  10759547       0       0       0       0       0       0\n",
       "2  10843547       0       0       0       0       0       0\n",
       "3  10859147       0       0       0       0       0       0\n",
       "4  10879947       0       0       0       0       0       0"
      ]
     },
     "execution_count": 80,
     "metadata": {},
     "output_type": "execute_result"
    }
   ],
   "source": [
    "print(len(target_data))\n",
    "target_data.head()"
   ]
  },
  {
   "cell_type": "code",
   "execution_count": 81,
   "metadata": {},
   "outputs": [],
   "source": [
    "target_props = data_X.loc[data_X['parcelid'].isin(target_data.ParcelId)]"
   ]
  },
  {
   "cell_type": "code",
   "execution_count": 86,
   "metadata": {
    "collapsed": true
   },
   "outputs": [],
   "source": [
    "for f in ['hashottuborspa', 'fireplaceflag', 'taxdelinquencyflag']:\n",
    "    target_props[f] = target_props[f].astype(np.bool)"
   ]
  },
  {
   "cell_type": "code",
   "execution_count": 88,
   "metadata": {},
   "outputs": [],
   "source": [
    "target_pred = clf.predict(target_props.drop(\n",
    "        ['parcelid', 'propertyzoningdesc', 'propertycountylandusecode'],\n",
    "        axis=1\n",
    "    ).values)"
   ]
  },
  {
   "cell_type": "code",
   "execution_count": 89,
   "metadata": {
    "collapsed": true
   },
   "outputs": [],
   "source": [
    "for c in target_data.columns[target_data.columns != 'ParcelId']:\n",
    "    target_data[c] = target_pred"
   ]
  },
  {
   "cell_type": "code",
   "execution_count": null,
   "metadata": {
    "collapsed": true
   },
   "outputs": [],
   "source": []
  }
 ],
 "metadata": {
  "kernelspec": {
   "display_name": "Python 3",
   "language": "python",
   "name": "python3"
  },
  "language_info": {
   "codemirror_mode": {
    "name": "ipython",
    "version": 3
   },
   "file_extension": ".py",
   "mimetype": "text/x-python",
   "name": "python",
   "nbconvert_exporter": "python",
   "pygments_lexer": "ipython3",
   "version": "3.6.1"
  }
 },
 "nbformat": 4,
 "nbformat_minor": 2
}
