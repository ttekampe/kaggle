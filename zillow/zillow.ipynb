{
 "cells": [
  {
   "cell_type": "markdown",
   "metadata": {},
   "source": [
    "| Feature | Description |\n",
    "|---------|:-----------:|\n",
    "|'airconditioningtypeid' |\t Type of cooling system present in the home (if any) |\n",
    "|'architecturalstyletypeid' |\t Architectural style of the home (i.e. ranch, colonial, split-level, etc…) |\n",
    "|'basementsqft' |\t Finished living area below or partially below ground level |\n",
    "|'bathroomcnt' |\t Number of bathrooms in home including fractional bathrooms |\n",
    "|'bedroomcnt' |\t Number of bedrooms in home  |\n",
    "|'buildingqualitytypeid' |\t Overall assessment of condition of the building from best (lowest) to worst (highest) |\n",
    "|'buildingclasstypeid' |\tThe building framing type (steel frame, wood frame, concrete/brick)  |\n",
    "|'calculatedbathnbr' |\t Number of bathrooms in home including fractional bathroom |\n",
    "|'decktypeid' |\tType of deck (if any) present on parcel |\n",
    "|'threequarterbathnbr' |\t Number of 3/4 bathrooms in house (shower + sink + toilet) |\n",
    "|'finishedfloor1squarefeet' |\t Size of the finished living area on the first (entry) floor of the home |\n",
    "|'calculatedfinishedsquarefeet' |\t Calculated total finished living area of the home  |\n",
    "|'finishedsquarefeet6' |\tBase unfinished and finished area |\n",
    "|'finishedsquarefeet12' |\tFinished living area |\n",
    "|'finishedsquarefeet13' |\tPerimeter  living area |\n",
    "|'finishedsquarefeet15' |\tTotal area |\n",
    "|'finishedsquarefeet50' |\t Size of the finished living area on the first (entry) floor of the home |\n",
    "|'fips' |\t Federal Information Processing Standard code -  see https://en.wikipedia.org/wiki/FIPS_county_code for more details |\n",
    "|'fireplacecnt' |\t Number of fireplaces in a home (if any) |\n",
    "|'fireplaceflag' |\t Is a fireplace present in this home  |\n",
    "|'fullbathcnt' |\t Number of full bathrooms (sink, shower + bathtub, and toilet) present in home |\n",
    "|'garagecarcnt' |\t Total number of garages on the lot including an attached garage |\n",
    "|'garagetotalsqft' |\t Total number of square feet of all garages on lot including an attached garage |\n",
    "|'hashottuborspa' |\t Does the home have a hot tub or spa |\n",
    "|'heatingorsystemtypeid' |\t Type of home heating system |\n",
    "|'latitude' |\t Latitude of the middle of the parcel multiplied by 10e6 |\n",
    "|'longitude' |\t Longitude of the middle of the parcel multiplied by 10e6 |\n",
    "|'lotsizesquarefeet' |\t Area of the lot in square feet |\n",
    "|'numberofstories' |\t Number of stories or levels the home has |\n",
    "|'parcelid' |\t Unique identifier for parcels (lots)  |\n",
    "|'poolcnt' |\t Number of pools on the lot (if any) |\n",
    "|'poolsizesum' |\t Total square footage of all pools on property |\n",
    "|'pooltypeid10' |\t Spa or Hot Tub |\n",
    "|'pooltypeid2' |\t Pool with Spa/Hot Tub |\n",
    "|'pooltypeid7' |\t Pool without hot tub |\n",
    "|'propertycountylandusecode' |\t County land use code i.e. it's zoning at the county level |\n",
    "|'propertylandusetypeid' |\t Type of land use the property is zoned for |\n",
    "|'propertyzoningdesc' |\t Description of the allowed land uses (zoning) for that property |\n",
    "|'rawcensustractandblock' |\t Census tract and block ID combined - also contains blockgroup assignment by extension |\n",
    "|'censustractandblock' |\t Census tract and block ID combined - also contains blockgroup assignment by extension |\n",
    "|'regionidcounty' |\tCounty in which the property is located |\n",
    "|'regionidcity' |\t City in which the property is located (if any) |\n",
    "|'regionidzip' |\t Zip code in which the property is located |\n",
    "|'regionidneighborhood' |\tNeighborhood in which the property is located |\n",
    "|'roomcnt' |\t Total number of rooms in the principal residence |\n",
    "|'storytypeid' |\t Type of floors in a multi-story house (i.e. basement and main level, split-level, attic, etc.).  See tab for details. |\n",
    "|'typeconstructiontypeid' |\t What type of construction material was used to construct the home |\n",
    "|'unitcnt' |\t Number of units the structure is built into (i.e. 2 = duplex, 3 = triplex, etc...) |\n",
    "|'yardbuildingsqft17' |\tPatio in  yard |\n",
    "|'yardbuildingsqft26' |\tStorage shed/building in yard |\n",
    "|'yearbuilt' |\t The Year the principal residence was built  |\n",
    "|'taxvaluedollarcnt' |\tThe total tax assessed value of the parcel |\n",
    "|'structuretaxvaluedollarcnt' |\tThe assessed value of the built structure on the parcel |\n",
    "|'landtaxvaluedollarcnt' |\tThe assessed value of the land area of the parcel |\n",
    "|'taxamount' |\tThe total property tax assessed for that assessment year |\n",
    "|'assessmentyear' |\tThe year of the property tax assessment  |\n",
    "|'taxdelinquencyflag' |\tProperty taxes for this parcel are past due as of 2015 |\n",
    "|'taxdelinquencyyear' |\tYear for which the unpaid propert taxes were due  |\n",
    "| | |"
   ]
  },
  {
   "cell_type": "code",
   "execution_count": 1,
   "metadata": {
    "collapsed": true
   },
   "outputs": [],
   "source": [
    "import pandas as pd\n",
    "import gc\n",
    "import numpy as np\n",
    "import matplotlib.pyplot as plt\n",
    "import seaborn as sns\n",
    "%matplotlib notebook"
   ]
  },
  {
   "cell_type": "code",
   "execution_count": 2,
   "metadata": {
    "collapsed": true
   },
   "outputs": [],
   "source": [
    "data_y = pd.DataFrame.from_csv('data/train_2016.csv', parse_dates=['transactiondate'], index_col=None)"
   ]
  },
  {
   "cell_type": "code",
   "execution_count": 3,
   "metadata": {},
   "outputs": [
    {
     "data": {
      "text/html": [
       "<div>\n",
       "<style>\n",
       "    .dataframe thead tr:only-child th {\n",
       "        text-align: right;\n",
       "    }\n",
       "\n",
       "    .dataframe thead th {\n",
       "        text-align: left;\n",
       "    }\n",
       "\n",
       "    .dataframe tbody tr th {\n",
       "        vertical-align: top;\n",
       "    }\n",
       "</style>\n",
       "<table border=\"1\" class=\"dataframe\">\n",
       "  <thead>\n",
       "    <tr style=\"text-align: right;\">\n",
       "      <th></th>\n",
       "      <th>parcelid</th>\n",
       "      <th>logerror</th>\n",
       "      <th>transactiondate</th>\n",
       "      <th>month</th>\n",
       "    </tr>\n",
       "  </thead>\n",
       "  <tbody>\n",
       "    <tr>\n",
       "      <th>0</th>\n",
       "      <td>11016594</td>\n",
       "      <td>0.0276</td>\n",
       "      <td>2016-01-01</td>\n",
       "      <td>1</td>\n",
       "    </tr>\n",
       "    <tr>\n",
       "      <th>1</th>\n",
       "      <td>14366692</td>\n",
       "      <td>-0.1684</td>\n",
       "      <td>2016-01-01</td>\n",
       "      <td>1</td>\n",
       "    </tr>\n",
       "    <tr>\n",
       "      <th>2</th>\n",
       "      <td>12098116</td>\n",
       "      <td>-0.0040</td>\n",
       "      <td>2016-01-01</td>\n",
       "      <td>1</td>\n",
       "    </tr>\n",
       "    <tr>\n",
       "      <th>3</th>\n",
       "      <td>12643413</td>\n",
       "      <td>0.0218</td>\n",
       "      <td>2016-01-02</td>\n",
       "      <td>1</td>\n",
       "    </tr>\n",
       "    <tr>\n",
       "      <th>4</th>\n",
       "      <td>14432541</td>\n",
       "      <td>-0.0050</td>\n",
       "      <td>2016-01-02</td>\n",
       "      <td>1</td>\n",
       "    </tr>\n",
       "  </tbody>\n",
       "</table>\n",
       "</div>"
      ],
      "text/plain": [
       "   parcelid  logerror transactiondate  month\n",
       "0  11016594    0.0276      2016-01-01      1\n",
       "1  14366692   -0.1684      2016-01-01      1\n",
       "2  12098116   -0.0040      2016-01-01      1\n",
       "3  12643413    0.0218      2016-01-02      1\n",
       "4  14432541   -0.0050      2016-01-02      1"
      ]
     },
     "execution_count": 3,
     "metadata": {},
     "output_type": "execute_result"
    }
   ],
   "source": [
    "data_y['month'] = data_y.transactiondate.dt.month\n",
    "data_y.head()"
   ]
  },
  {
   "cell_type": "code",
   "execution_count": 4,
   "metadata": {},
   "outputs": [
    {
     "name": "stdout",
     "output_type": "stream",
     "text": [
      "1\n",
      "6574\n",
      "0.17186747282145437\n",
      "2\n",
      "6401\n",
      "0.20139303588487162\n",
      "3\n",
      "8752\n",
      "0.17724585715969499\n",
      "4\n",
      "9407\n",
      "0.16908427627859904\n",
      "5\n",
      "10056\n",
      "0.15342949275641432\n",
      "6\n",
      "10968\n",
      "0.152878752497439\n",
      "7\n",
      "9984\n",
      "0.15296906636103955\n",
      "8\n",
      "10510\n",
      "0.16525205257429262\n",
      "9\n",
      "9597\n",
      "0.15082358700633736\n",
      "10\n",
      "4991\n",
      "0.13532500937115619\n",
      "11\n",
      "1829\n",
      "0.1395908000308042\n",
      "12\n",
      "1742\n",
      "0.1906884718955433\n"
     ]
    }
   ],
   "source": [
    "stds = list()\n",
    "for m in data_y.month.unique():\n",
    "    print(m)\n",
    "    stds.append(data_y[data_y.month == m].logerror.std())\n",
    "    print(len(data_y[data_y.month == m]))\n",
    "    print(stds[-1])"
   ]
  },
  {
   "cell_type": "code",
   "execution_count": 5,
   "metadata": {},
   "outputs": [
    {
     "data": {
      "application/javascript": [
       "/* Put everything inside the global mpl namespace */\n",
       "window.mpl = {};\n",
       "\n",
       "\n",
       "mpl.get_websocket_type = function() {\n",
       "    if (typeof(WebSocket) !== 'undefined') {\n",
       "        return WebSocket;\n",
       "    } else if (typeof(MozWebSocket) !== 'undefined') {\n",
       "        return MozWebSocket;\n",
       "    } else {\n",
       "        alert('Your browser does not have WebSocket support.' +\n",
       "              'Please try Chrome, Safari or Firefox ≥ 6. ' +\n",
       "              'Firefox 4 and 5 are also supported but you ' +\n",
       "              'have to enable WebSockets in about:config.');\n",
       "    };\n",
       "}\n",
       "\n",
       "mpl.figure = function(figure_id, websocket, ondownload, parent_element) {\n",
       "    this.id = figure_id;\n",
       "\n",
       "    this.ws = websocket;\n",
       "\n",
       "    this.supports_binary = (this.ws.binaryType != undefined);\n",
       "\n",
       "    if (!this.supports_binary) {\n",
       "        var warnings = document.getElementById(\"mpl-warnings\");\n",
       "        if (warnings) {\n",
       "            warnings.style.display = 'block';\n",
       "            warnings.textContent = (\n",
       "                \"This browser does not support binary websocket messages. \" +\n",
       "                    \"Performance may be slow.\");\n",
       "        }\n",
       "    }\n",
       "\n",
       "    this.imageObj = new Image();\n",
       "\n",
       "    this.context = undefined;\n",
       "    this.message = undefined;\n",
       "    this.canvas = undefined;\n",
       "    this.rubberband_canvas = undefined;\n",
       "    this.rubberband_context = undefined;\n",
       "    this.format_dropdown = undefined;\n",
       "\n",
       "    this.image_mode = 'full';\n",
       "\n",
       "    this.root = $('<div/>');\n",
       "    this._root_extra_style(this.root)\n",
       "    this.root.attr('style', 'display: inline-block');\n",
       "\n",
       "    $(parent_element).append(this.root);\n",
       "\n",
       "    this._init_header(this);\n",
       "    this._init_canvas(this);\n",
       "    this._init_toolbar(this);\n",
       "\n",
       "    var fig = this;\n",
       "\n",
       "    this.waiting = false;\n",
       "\n",
       "    this.ws.onopen =  function () {\n",
       "            fig.send_message(\"supports_binary\", {value: fig.supports_binary});\n",
       "            fig.send_message(\"send_image_mode\", {});\n",
       "            if (mpl.ratio != 1) {\n",
       "                fig.send_message(\"set_dpi_ratio\", {'dpi_ratio': mpl.ratio});\n",
       "            }\n",
       "            fig.send_message(\"refresh\", {});\n",
       "        }\n",
       "\n",
       "    this.imageObj.onload = function() {\n",
       "            if (fig.image_mode == 'full') {\n",
       "                // Full images could contain transparency (where diff images\n",
       "                // almost always do), so we need to clear the canvas so that\n",
       "                // there is no ghosting.\n",
       "                fig.context.clearRect(0, 0, fig.canvas.width, fig.canvas.height);\n",
       "            }\n",
       "            fig.context.drawImage(fig.imageObj, 0, 0);\n",
       "        };\n",
       "\n",
       "    this.imageObj.onunload = function() {\n",
       "        this.ws.close();\n",
       "    }\n",
       "\n",
       "    this.ws.onmessage = this._make_on_message_function(this);\n",
       "\n",
       "    this.ondownload = ondownload;\n",
       "}\n",
       "\n",
       "mpl.figure.prototype._init_header = function() {\n",
       "    var titlebar = $(\n",
       "        '<div class=\"ui-dialog-titlebar ui-widget-header ui-corner-all ' +\n",
       "        'ui-helper-clearfix\"/>');\n",
       "    var titletext = $(\n",
       "        '<div class=\"ui-dialog-title\" style=\"width: 100%; ' +\n",
       "        'text-align: center; padding: 3px;\"/>');\n",
       "    titlebar.append(titletext)\n",
       "    this.root.append(titlebar);\n",
       "    this.header = titletext[0];\n",
       "}\n",
       "\n",
       "\n",
       "\n",
       "mpl.figure.prototype._canvas_extra_style = function(canvas_div) {\n",
       "\n",
       "}\n",
       "\n",
       "\n",
       "mpl.figure.prototype._root_extra_style = function(canvas_div) {\n",
       "\n",
       "}\n",
       "\n",
       "mpl.figure.prototype._init_canvas = function() {\n",
       "    var fig = this;\n",
       "\n",
       "    var canvas_div = $('<div/>');\n",
       "\n",
       "    canvas_div.attr('style', 'position: relative; clear: both; outline: 0');\n",
       "\n",
       "    function canvas_keyboard_event(event) {\n",
       "        return fig.key_event(event, event['data']);\n",
       "    }\n",
       "\n",
       "    canvas_div.keydown('key_press', canvas_keyboard_event);\n",
       "    canvas_div.keyup('key_release', canvas_keyboard_event);\n",
       "    this.canvas_div = canvas_div\n",
       "    this._canvas_extra_style(canvas_div)\n",
       "    this.root.append(canvas_div);\n",
       "\n",
       "    var canvas = $('<canvas/>');\n",
       "    canvas.addClass('mpl-canvas');\n",
       "    canvas.attr('style', \"left: 0; top: 0; z-index: 0; outline: 0\")\n",
       "\n",
       "    this.canvas = canvas[0];\n",
       "    this.context = canvas[0].getContext(\"2d\");\n",
       "\n",
       "    var backingStore = this.context.backingStorePixelRatio ||\n",
       "\tthis.context.webkitBackingStorePixelRatio ||\n",
       "\tthis.context.mozBackingStorePixelRatio ||\n",
       "\tthis.context.msBackingStorePixelRatio ||\n",
       "\tthis.context.oBackingStorePixelRatio ||\n",
       "\tthis.context.backingStorePixelRatio || 1;\n",
       "\n",
       "    mpl.ratio = (window.devicePixelRatio || 1) / backingStore;\n",
       "\n",
       "    var rubberband = $('<canvas/>');\n",
       "    rubberband.attr('style', \"position: absolute; left: 0; top: 0; z-index: 1;\")\n",
       "\n",
       "    var pass_mouse_events = true;\n",
       "\n",
       "    canvas_div.resizable({\n",
       "        start: function(event, ui) {\n",
       "            pass_mouse_events = false;\n",
       "        },\n",
       "        resize: function(event, ui) {\n",
       "            fig.request_resize(ui.size.width, ui.size.height);\n",
       "        },\n",
       "        stop: function(event, ui) {\n",
       "            pass_mouse_events = true;\n",
       "            fig.request_resize(ui.size.width, ui.size.height);\n",
       "        },\n",
       "    });\n",
       "\n",
       "    function mouse_event_fn(event) {\n",
       "        if (pass_mouse_events)\n",
       "            return fig.mouse_event(event, event['data']);\n",
       "    }\n",
       "\n",
       "    rubberband.mousedown('button_press', mouse_event_fn);\n",
       "    rubberband.mouseup('button_release', mouse_event_fn);\n",
       "    // Throttle sequential mouse events to 1 every 20ms.\n",
       "    rubberband.mousemove('motion_notify', mouse_event_fn);\n",
       "\n",
       "    rubberband.mouseenter('figure_enter', mouse_event_fn);\n",
       "    rubberband.mouseleave('figure_leave', mouse_event_fn);\n",
       "\n",
       "    canvas_div.on(\"wheel\", function (event) {\n",
       "        event = event.originalEvent;\n",
       "        event['data'] = 'scroll'\n",
       "        if (event.deltaY < 0) {\n",
       "            event.step = 1;\n",
       "        } else {\n",
       "            event.step = -1;\n",
       "        }\n",
       "        mouse_event_fn(event);\n",
       "    });\n",
       "\n",
       "    canvas_div.append(canvas);\n",
       "    canvas_div.append(rubberband);\n",
       "\n",
       "    this.rubberband = rubberband;\n",
       "    this.rubberband_canvas = rubberband[0];\n",
       "    this.rubberband_context = rubberband[0].getContext(\"2d\");\n",
       "    this.rubberband_context.strokeStyle = \"#000000\";\n",
       "\n",
       "    this._resize_canvas = function(width, height) {\n",
       "        // Keep the size of the canvas, canvas container, and rubber band\n",
       "        // canvas in synch.\n",
       "        canvas_div.css('width', width)\n",
       "        canvas_div.css('height', height)\n",
       "\n",
       "        canvas.attr('width', width * mpl.ratio);\n",
       "        canvas.attr('height', height * mpl.ratio);\n",
       "        canvas.attr('style', 'width: ' + width + 'px; height: ' + height + 'px;');\n",
       "\n",
       "        rubberband.attr('width', width);\n",
       "        rubberband.attr('height', height);\n",
       "    }\n",
       "\n",
       "    // Set the figure to an initial 600x600px, this will subsequently be updated\n",
       "    // upon first draw.\n",
       "    this._resize_canvas(600, 600);\n",
       "\n",
       "    // Disable right mouse context menu.\n",
       "    $(this.rubberband_canvas).bind(\"contextmenu\",function(e){\n",
       "        return false;\n",
       "    });\n",
       "\n",
       "    function set_focus () {\n",
       "        canvas.focus();\n",
       "        canvas_div.focus();\n",
       "    }\n",
       "\n",
       "    window.setTimeout(set_focus, 100);\n",
       "}\n",
       "\n",
       "mpl.figure.prototype._init_toolbar = function() {\n",
       "    var fig = this;\n",
       "\n",
       "    var nav_element = $('<div/>')\n",
       "    nav_element.attr('style', 'width: 100%');\n",
       "    this.root.append(nav_element);\n",
       "\n",
       "    // Define a callback function for later on.\n",
       "    function toolbar_event(event) {\n",
       "        return fig.toolbar_button_onclick(event['data']);\n",
       "    }\n",
       "    function toolbar_mouse_event(event) {\n",
       "        return fig.toolbar_button_onmouseover(event['data']);\n",
       "    }\n",
       "\n",
       "    for(var toolbar_ind in mpl.toolbar_items) {\n",
       "        var name = mpl.toolbar_items[toolbar_ind][0];\n",
       "        var tooltip = mpl.toolbar_items[toolbar_ind][1];\n",
       "        var image = mpl.toolbar_items[toolbar_ind][2];\n",
       "        var method_name = mpl.toolbar_items[toolbar_ind][3];\n",
       "\n",
       "        if (!name) {\n",
       "            // put a spacer in here.\n",
       "            continue;\n",
       "        }\n",
       "        var button = $('<button/>');\n",
       "        button.addClass('ui-button ui-widget ui-state-default ui-corner-all ' +\n",
       "                        'ui-button-icon-only');\n",
       "        button.attr('role', 'button');\n",
       "        button.attr('aria-disabled', 'false');\n",
       "        button.click(method_name, toolbar_event);\n",
       "        button.mouseover(tooltip, toolbar_mouse_event);\n",
       "\n",
       "        var icon_img = $('<span/>');\n",
       "        icon_img.addClass('ui-button-icon-primary ui-icon');\n",
       "        icon_img.addClass(image);\n",
       "        icon_img.addClass('ui-corner-all');\n",
       "\n",
       "        var tooltip_span = $('<span/>');\n",
       "        tooltip_span.addClass('ui-button-text');\n",
       "        tooltip_span.html(tooltip);\n",
       "\n",
       "        button.append(icon_img);\n",
       "        button.append(tooltip_span);\n",
       "\n",
       "        nav_element.append(button);\n",
       "    }\n",
       "\n",
       "    var fmt_picker_span = $('<span/>');\n",
       "\n",
       "    var fmt_picker = $('<select/>');\n",
       "    fmt_picker.addClass('mpl-toolbar-option ui-widget ui-widget-content');\n",
       "    fmt_picker_span.append(fmt_picker);\n",
       "    nav_element.append(fmt_picker_span);\n",
       "    this.format_dropdown = fmt_picker[0];\n",
       "\n",
       "    for (var ind in mpl.extensions) {\n",
       "        var fmt = mpl.extensions[ind];\n",
       "        var option = $(\n",
       "            '<option/>', {selected: fmt === mpl.default_extension}).html(fmt);\n",
       "        fmt_picker.append(option)\n",
       "    }\n",
       "\n",
       "    // Add hover states to the ui-buttons\n",
       "    $( \".ui-button\" ).hover(\n",
       "        function() { $(this).addClass(\"ui-state-hover\");},\n",
       "        function() { $(this).removeClass(\"ui-state-hover\");}\n",
       "    );\n",
       "\n",
       "    var status_bar = $('<span class=\"mpl-message\"/>');\n",
       "    nav_element.append(status_bar);\n",
       "    this.message = status_bar[0];\n",
       "}\n",
       "\n",
       "mpl.figure.prototype.request_resize = function(x_pixels, y_pixels) {\n",
       "    // Request matplotlib to resize the figure. Matplotlib will then trigger a resize in the client,\n",
       "    // which will in turn request a refresh of the image.\n",
       "    this.send_message('resize', {'width': x_pixels, 'height': y_pixels});\n",
       "}\n",
       "\n",
       "mpl.figure.prototype.send_message = function(type, properties) {\n",
       "    properties['type'] = type;\n",
       "    properties['figure_id'] = this.id;\n",
       "    this.ws.send(JSON.stringify(properties));\n",
       "}\n",
       "\n",
       "mpl.figure.prototype.send_draw_message = function() {\n",
       "    if (!this.waiting) {\n",
       "        this.waiting = true;\n",
       "        this.ws.send(JSON.stringify({type: \"draw\", figure_id: this.id}));\n",
       "    }\n",
       "}\n",
       "\n",
       "\n",
       "mpl.figure.prototype.handle_save = function(fig, msg) {\n",
       "    var format_dropdown = fig.format_dropdown;\n",
       "    var format = format_dropdown.options[format_dropdown.selectedIndex].value;\n",
       "    fig.ondownload(fig, format);\n",
       "}\n",
       "\n",
       "\n",
       "mpl.figure.prototype.handle_resize = function(fig, msg) {\n",
       "    var size = msg['size'];\n",
       "    if (size[0] != fig.canvas.width || size[1] != fig.canvas.height) {\n",
       "        fig._resize_canvas(size[0], size[1]);\n",
       "        fig.send_message(\"refresh\", {});\n",
       "    };\n",
       "}\n",
       "\n",
       "mpl.figure.prototype.handle_rubberband = function(fig, msg) {\n",
       "    var x0 = msg['x0'] / mpl.ratio;\n",
       "    var y0 = (fig.canvas.height - msg['y0']) / mpl.ratio;\n",
       "    var x1 = msg['x1'] / mpl.ratio;\n",
       "    var y1 = (fig.canvas.height - msg['y1']) / mpl.ratio;\n",
       "    x0 = Math.floor(x0) + 0.5;\n",
       "    y0 = Math.floor(y0) + 0.5;\n",
       "    x1 = Math.floor(x1) + 0.5;\n",
       "    y1 = Math.floor(y1) + 0.5;\n",
       "    var min_x = Math.min(x0, x1);\n",
       "    var min_y = Math.min(y0, y1);\n",
       "    var width = Math.abs(x1 - x0);\n",
       "    var height = Math.abs(y1 - y0);\n",
       "\n",
       "    fig.rubberband_context.clearRect(\n",
       "        0, 0, fig.canvas.width, fig.canvas.height);\n",
       "\n",
       "    fig.rubberband_context.strokeRect(min_x, min_y, width, height);\n",
       "}\n",
       "\n",
       "mpl.figure.prototype.handle_figure_label = function(fig, msg) {\n",
       "    // Updates the figure title.\n",
       "    fig.header.textContent = msg['label'];\n",
       "}\n",
       "\n",
       "mpl.figure.prototype.handle_cursor = function(fig, msg) {\n",
       "    var cursor = msg['cursor'];\n",
       "    switch(cursor)\n",
       "    {\n",
       "    case 0:\n",
       "        cursor = 'pointer';\n",
       "        break;\n",
       "    case 1:\n",
       "        cursor = 'default';\n",
       "        break;\n",
       "    case 2:\n",
       "        cursor = 'crosshair';\n",
       "        break;\n",
       "    case 3:\n",
       "        cursor = 'move';\n",
       "        break;\n",
       "    }\n",
       "    fig.rubberband_canvas.style.cursor = cursor;\n",
       "}\n",
       "\n",
       "mpl.figure.prototype.handle_message = function(fig, msg) {\n",
       "    fig.message.textContent = msg['message'];\n",
       "}\n",
       "\n",
       "mpl.figure.prototype.handle_draw = function(fig, msg) {\n",
       "    // Request the server to send over a new figure.\n",
       "    fig.send_draw_message();\n",
       "}\n",
       "\n",
       "mpl.figure.prototype.handle_image_mode = function(fig, msg) {\n",
       "    fig.image_mode = msg['mode'];\n",
       "}\n",
       "\n",
       "mpl.figure.prototype.updated_canvas_event = function() {\n",
       "    // Called whenever the canvas gets updated.\n",
       "    this.send_message(\"ack\", {});\n",
       "}\n",
       "\n",
       "// A function to construct a web socket function for onmessage handling.\n",
       "// Called in the figure constructor.\n",
       "mpl.figure.prototype._make_on_message_function = function(fig) {\n",
       "    return function socket_on_message(evt) {\n",
       "        if (evt.data instanceof Blob) {\n",
       "            /* FIXME: We get \"Resource interpreted as Image but\n",
       "             * transferred with MIME type text/plain:\" errors on\n",
       "             * Chrome.  But how to set the MIME type?  It doesn't seem\n",
       "             * to be part of the websocket stream */\n",
       "            evt.data.type = \"image/png\";\n",
       "\n",
       "            /* Free the memory for the previous frames */\n",
       "            if (fig.imageObj.src) {\n",
       "                (window.URL || window.webkitURL).revokeObjectURL(\n",
       "                    fig.imageObj.src);\n",
       "            }\n",
       "\n",
       "            fig.imageObj.src = (window.URL || window.webkitURL).createObjectURL(\n",
       "                evt.data);\n",
       "            fig.updated_canvas_event();\n",
       "            fig.waiting = false;\n",
       "            return;\n",
       "        }\n",
       "        else if (typeof evt.data === 'string' && evt.data.slice(0, 21) == \"data:image/png;base64\") {\n",
       "            fig.imageObj.src = evt.data;\n",
       "            fig.updated_canvas_event();\n",
       "            fig.waiting = false;\n",
       "            return;\n",
       "        }\n",
       "\n",
       "        var msg = JSON.parse(evt.data);\n",
       "        var msg_type = msg['type'];\n",
       "\n",
       "        // Call the  \"handle_{type}\" callback, which takes\n",
       "        // the figure and JSON message as its only arguments.\n",
       "        try {\n",
       "            var callback = fig[\"handle_\" + msg_type];\n",
       "        } catch (e) {\n",
       "            console.log(\"No handler for the '\" + msg_type + \"' message type: \", msg);\n",
       "            return;\n",
       "        }\n",
       "\n",
       "        if (callback) {\n",
       "            try {\n",
       "                // console.log(\"Handling '\" + msg_type + \"' message: \", msg);\n",
       "                callback(fig, msg);\n",
       "            } catch (e) {\n",
       "                console.log(\"Exception inside the 'handler_\" + msg_type + \"' callback:\", e, e.stack, msg);\n",
       "            }\n",
       "        }\n",
       "    };\n",
       "}\n",
       "\n",
       "// from http://stackoverflow.com/questions/1114465/getting-mouse-location-in-canvas\n",
       "mpl.findpos = function(e) {\n",
       "    //this section is from http://www.quirksmode.org/js/events_properties.html\n",
       "    var targ;\n",
       "    if (!e)\n",
       "        e = window.event;\n",
       "    if (e.target)\n",
       "        targ = e.target;\n",
       "    else if (e.srcElement)\n",
       "        targ = e.srcElement;\n",
       "    if (targ.nodeType == 3) // defeat Safari bug\n",
       "        targ = targ.parentNode;\n",
       "\n",
       "    // jQuery normalizes the pageX and pageY\n",
       "    // pageX,Y are the mouse positions relative to the document\n",
       "    // offset() returns the position of the element relative to the document\n",
       "    var x = e.pageX - $(targ).offset().left;\n",
       "    var y = e.pageY - $(targ).offset().top;\n",
       "\n",
       "    return {\"x\": x, \"y\": y};\n",
       "};\n",
       "\n",
       "/*\n",
       " * return a copy of an object with only non-object keys\n",
       " * we need this to avoid circular references\n",
       " * http://stackoverflow.com/a/24161582/3208463\n",
       " */\n",
       "function simpleKeys (original) {\n",
       "  return Object.keys(original).reduce(function (obj, key) {\n",
       "    if (typeof original[key] !== 'object')\n",
       "        obj[key] = original[key]\n",
       "    return obj;\n",
       "  }, {});\n",
       "}\n",
       "\n",
       "mpl.figure.prototype.mouse_event = function(event, name) {\n",
       "    var canvas_pos = mpl.findpos(event)\n",
       "\n",
       "    if (name === 'button_press')\n",
       "    {\n",
       "        this.canvas.focus();\n",
       "        this.canvas_div.focus();\n",
       "    }\n",
       "\n",
       "    var x = canvas_pos.x * mpl.ratio;\n",
       "    var y = canvas_pos.y * mpl.ratio;\n",
       "\n",
       "    this.send_message(name, {x: x, y: y, button: event.button,\n",
       "                             step: event.step,\n",
       "                             guiEvent: simpleKeys(event)});\n",
       "\n",
       "    /* This prevents the web browser from automatically changing to\n",
       "     * the text insertion cursor when the button is pressed.  We want\n",
       "     * to control all of the cursor setting manually through the\n",
       "     * 'cursor' event from matplotlib */\n",
       "    event.preventDefault();\n",
       "    return false;\n",
       "}\n",
       "\n",
       "mpl.figure.prototype._key_event_extra = function(event, name) {\n",
       "    // Handle any extra behaviour associated with a key event\n",
       "}\n",
       "\n",
       "mpl.figure.prototype.key_event = function(event, name) {\n",
       "\n",
       "    // Prevent repeat events\n",
       "    if (name == 'key_press')\n",
       "    {\n",
       "        if (event.which === this._key)\n",
       "            return;\n",
       "        else\n",
       "            this._key = event.which;\n",
       "    }\n",
       "    if (name == 'key_release')\n",
       "        this._key = null;\n",
       "\n",
       "    var value = '';\n",
       "    if (event.ctrlKey && event.which != 17)\n",
       "        value += \"ctrl+\";\n",
       "    if (event.altKey && event.which != 18)\n",
       "        value += \"alt+\";\n",
       "    if (event.shiftKey && event.which != 16)\n",
       "        value += \"shift+\";\n",
       "\n",
       "    value += 'k';\n",
       "    value += event.which.toString();\n",
       "\n",
       "    this._key_event_extra(event, name);\n",
       "\n",
       "    this.send_message(name, {key: value,\n",
       "                             guiEvent: simpleKeys(event)});\n",
       "    return false;\n",
       "}\n",
       "\n",
       "mpl.figure.prototype.toolbar_button_onclick = function(name) {\n",
       "    if (name == 'download') {\n",
       "        this.handle_save(this, null);\n",
       "    } else {\n",
       "        this.send_message(\"toolbar_button\", {name: name});\n",
       "    }\n",
       "};\n",
       "\n",
       "mpl.figure.prototype.toolbar_button_onmouseover = function(tooltip) {\n",
       "    this.message.textContent = tooltip;\n",
       "};\n",
       "mpl.toolbar_items = [[\"Home\", \"Reset original view\", \"fa fa-home icon-home\", \"home\"], [\"Back\", \"Back to  previous view\", \"fa fa-arrow-left icon-arrow-left\", \"back\"], [\"Forward\", \"Forward to next view\", \"fa fa-arrow-right icon-arrow-right\", \"forward\"], [\"\", \"\", \"\", \"\"], [\"Pan\", \"Pan axes with left mouse, zoom with right\", \"fa fa-arrows icon-move\", \"pan\"], [\"Zoom\", \"Zoom to rectangle\", \"fa fa-square-o icon-check-empty\", \"zoom\"], [\"\", \"\", \"\", \"\"], [\"Download\", \"Download plot\", \"fa fa-floppy-o icon-save\", \"download\"]];\n",
       "\n",
       "mpl.extensions = [\"eps\", \"pdf\", \"png\", \"ps\", \"raw\", \"svg\"];\n",
       "\n",
       "mpl.default_extension = \"png\";var comm_websocket_adapter = function(comm) {\n",
       "    // Create a \"websocket\"-like object which calls the given IPython comm\n",
       "    // object with the appropriate methods. Currently this is a non binary\n",
       "    // socket, so there is still some room for performance tuning.\n",
       "    var ws = {};\n",
       "\n",
       "    ws.close = function() {\n",
       "        comm.close()\n",
       "    };\n",
       "    ws.send = function(m) {\n",
       "        //console.log('sending', m);\n",
       "        comm.send(m);\n",
       "    };\n",
       "    // Register the callback with on_msg.\n",
       "    comm.on_msg(function(msg) {\n",
       "        //console.log('receiving', msg['content']['data'], msg);\n",
       "        // Pass the mpl event to the overriden (by mpl) onmessage function.\n",
       "        ws.onmessage(msg['content']['data'])\n",
       "    });\n",
       "    return ws;\n",
       "}\n",
       "\n",
       "mpl.mpl_figure_comm = function(comm, msg) {\n",
       "    // This is the function which gets called when the mpl process\n",
       "    // starts-up an IPython Comm through the \"matplotlib\" channel.\n",
       "\n",
       "    var id = msg.content.data.id;\n",
       "    // Get hold of the div created by the display call when the Comm\n",
       "    // socket was opened in Python.\n",
       "    var element = $(\"#\" + id);\n",
       "    var ws_proxy = comm_websocket_adapter(comm)\n",
       "\n",
       "    function ondownload(figure, format) {\n",
       "        window.open(figure.imageObj.src);\n",
       "    }\n",
       "\n",
       "    var fig = new mpl.figure(id, ws_proxy,\n",
       "                           ondownload,\n",
       "                           element.get(0));\n",
       "\n",
       "    // Call onopen now - mpl needs it, as it is assuming we've passed it a real\n",
       "    // web socket which is closed, not our websocket->open comm proxy.\n",
       "    ws_proxy.onopen();\n",
       "\n",
       "    fig.parent_element = element.get(0);\n",
       "    fig.cell_info = mpl.find_output_cell(\"<div id='\" + id + \"'></div>\");\n",
       "    if (!fig.cell_info) {\n",
       "        console.error(\"Failed to find cell for figure\", id, fig);\n",
       "        return;\n",
       "    }\n",
       "\n",
       "    var output_index = fig.cell_info[2]\n",
       "    var cell = fig.cell_info[0];\n",
       "\n",
       "};\n",
       "\n",
       "mpl.figure.prototype.handle_close = function(fig, msg) {\n",
       "    var width = fig.canvas.width/mpl.ratio\n",
       "    fig.root.unbind('remove')\n",
       "\n",
       "    // Update the output cell to use the data from the current canvas.\n",
       "    fig.push_to_output();\n",
       "    var dataURL = fig.canvas.toDataURL();\n",
       "    // Re-enable the keyboard manager in IPython - without this line, in FF,\n",
       "    // the notebook keyboard shortcuts fail.\n",
       "    IPython.keyboard_manager.enable()\n",
       "    $(fig.parent_element).html('<img src=\"' + dataURL + '\" width=\"' + width + '\">');\n",
       "    fig.close_ws(fig, msg);\n",
       "}\n",
       "\n",
       "mpl.figure.prototype.close_ws = function(fig, msg){\n",
       "    fig.send_message('closing', msg);\n",
       "    // fig.ws.close()\n",
       "}\n",
       "\n",
       "mpl.figure.prototype.push_to_output = function(remove_interactive) {\n",
       "    // Turn the data on the canvas into data in the output cell.\n",
       "    var width = this.canvas.width/mpl.ratio\n",
       "    var dataURL = this.canvas.toDataURL();\n",
       "    this.cell_info[1]['text/html'] = '<img src=\"' + dataURL + '\" width=\"' + width + '\">';\n",
       "}\n",
       "\n",
       "mpl.figure.prototype.updated_canvas_event = function() {\n",
       "    // Tell IPython that the notebook contents must change.\n",
       "    IPython.notebook.set_dirty(true);\n",
       "    this.send_message(\"ack\", {});\n",
       "    var fig = this;\n",
       "    // Wait a second, then push the new image to the DOM so\n",
       "    // that it is saved nicely (might be nice to debounce this).\n",
       "    setTimeout(function () { fig.push_to_output() }, 1000);\n",
       "}\n",
       "\n",
       "mpl.figure.prototype._init_toolbar = function() {\n",
       "    var fig = this;\n",
       "\n",
       "    var nav_element = $('<div/>')\n",
       "    nav_element.attr('style', 'width: 100%');\n",
       "    this.root.append(nav_element);\n",
       "\n",
       "    // Define a callback function for later on.\n",
       "    function toolbar_event(event) {\n",
       "        return fig.toolbar_button_onclick(event['data']);\n",
       "    }\n",
       "    function toolbar_mouse_event(event) {\n",
       "        return fig.toolbar_button_onmouseover(event['data']);\n",
       "    }\n",
       "\n",
       "    for(var toolbar_ind in mpl.toolbar_items){\n",
       "        var name = mpl.toolbar_items[toolbar_ind][0];\n",
       "        var tooltip = mpl.toolbar_items[toolbar_ind][1];\n",
       "        var image = mpl.toolbar_items[toolbar_ind][2];\n",
       "        var method_name = mpl.toolbar_items[toolbar_ind][3];\n",
       "\n",
       "        if (!name) { continue; };\n",
       "\n",
       "        var button = $('<button class=\"btn btn-default\" href=\"#\" title=\"' + name + '\"><i class=\"fa ' + image + ' fa-lg\"></i></button>');\n",
       "        button.click(method_name, toolbar_event);\n",
       "        button.mouseover(tooltip, toolbar_mouse_event);\n",
       "        nav_element.append(button);\n",
       "    }\n",
       "\n",
       "    // Add the status bar.\n",
       "    var status_bar = $('<span class=\"mpl-message\" style=\"text-align:right; float: right;\"/>');\n",
       "    nav_element.append(status_bar);\n",
       "    this.message = status_bar[0];\n",
       "\n",
       "    // Add the close button to the window.\n",
       "    var buttongrp = $('<div class=\"btn-group inline pull-right\"></div>');\n",
       "    var button = $('<button class=\"btn btn-mini btn-primary\" href=\"#\" title=\"Stop Interaction\"><i class=\"fa fa-power-off icon-remove icon-large\"></i></button>');\n",
       "    button.click(function (evt) { fig.handle_close(fig, {}); } );\n",
       "    button.mouseover('Stop Interaction', toolbar_mouse_event);\n",
       "    buttongrp.append(button);\n",
       "    var titlebar = this.root.find($('.ui-dialog-titlebar'));\n",
       "    titlebar.prepend(buttongrp);\n",
       "}\n",
       "\n",
       "mpl.figure.prototype._root_extra_style = function(el){\n",
       "    var fig = this\n",
       "    el.on(\"remove\", function(){\n",
       "\tfig.close_ws(fig, {});\n",
       "    });\n",
       "}\n",
       "\n",
       "mpl.figure.prototype._canvas_extra_style = function(el){\n",
       "    // this is important to make the div 'focusable\n",
       "    el.attr('tabindex', 0)\n",
       "    // reach out to IPython and tell the keyboard manager to turn it's self\n",
       "    // off when our div gets focus\n",
       "\n",
       "    // location in version 3\n",
       "    if (IPython.notebook.keyboard_manager) {\n",
       "        IPython.notebook.keyboard_manager.register_events(el);\n",
       "    }\n",
       "    else {\n",
       "        // location in version 2\n",
       "        IPython.keyboard_manager.register_events(el);\n",
       "    }\n",
       "\n",
       "}\n",
       "\n",
       "mpl.figure.prototype._key_event_extra = function(event, name) {\n",
       "    var manager = IPython.notebook.keyboard_manager;\n",
       "    if (!manager)\n",
       "        manager = IPython.keyboard_manager;\n",
       "\n",
       "    // Check for shift+enter\n",
       "    if (event.shiftKey && event.which == 13) {\n",
       "        this.canvas_div.blur();\n",
       "        // select the cell after this one\n",
       "        var index = IPython.notebook.find_cell_index(this.cell_info[0]);\n",
       "        IPython.notebook.select(index + 1);\n",
       "    }\n",
       "}\n",
       "\n",
       "mpl.figure.prototype.handle_save = function(fig, msg) {\n",
       "    fig.ondownload(fig, null);\n",
       "}\n",
       "\n",
       "\n",
       "mpl.find_output_cell = function(html_output) {\n",
       "    // Return the cell and output element which can be found *uniquely* in the notebook.\n",
       "    // Note - this is a bit hacky, but it is done because the \"notebook_saving.Notebook\"\n",
       "    // IPython event is triggered only after the cells have been serialised, which for\n",
       "    // our purposes (turning an active figure into a static one), is too late.\n",
       "    var cells = IPython.notebook.get_cells();\n",
       "    var ncells = cells.length;\n",
       "    for (var i=0; i<ncells; i++) {\n",
       "        var cell = cells[i];\n",
       "        if (cell.cell_type === 'code'){\n",
       "            for (var j=0; j<cell.output_area.outputs.length; j++) {\n",
       "                var data = cell.output_area.outputs[j];\n",
       "                if (data.data) {\n",
       "                    // IPython >= 3 moved mimebundle to data attribute of output\n",
       "                    data = data.data;\n",
       "                }\n",
       "                if (data['text/html'] == html_output) {\n",
       "                    return [cell, data, j];\n",
       "                }\n",
       "            }\n",
       "        }\n",
       "    }\n",
       "}\n",
       "\n",
       "// Register the function which deals with the matplotlib target/channel.\n",
       "// The kernel may be null if the page has been refreshed.\n",
       "if (IPython.notebook.kernel != null) {\n",
       "    IPython.notebook.kernel.comm_manager.register_target('matplotlib', mpl.mpl_figure_comm);\n",
       "}\n"
      ],
      "text/plain": [
       "<IPython.core.display.Javascript object>"
      ]
     },
     "metadata": {},
     "output_type": "display_data"
    },
    {
     "data": {
      "text/html": [
       "<img src=\"data:image/png;base64,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\" width=\"639.4444613839378\">"
      ],
      "text/plain": [
       "<IPython.core.display.HTML object>"
      ]
     },
     "metadata": {},
     "output_type": "display_data"
    },
    {
     "data": {
      "text/plain": [
       "<matplotlib.axes._subplots.AxesSubplot at 0x7fabeea5c7f0>"
      ]
     },
     "execution_count": 5,
     "metadata": {},
     "output_type": "execute_result"
    }
   ],
   "source": [
    "sns.distplot(data_y.logerror, bins=100)"
   ]
  },
  {
   "cell_type": "code",
   "execution_count": 6,
   "metadata": {
    "collapsed": true
   },
   "outputs": [],
   "source": [
    "data_X = pd.read_csv(\n",
    "    'data/properties_2016.csv',\n",
    "    index_col=None,\n",
    "    dtype={\n",
    "        'hashottuborspa': np.bool,\n",
    "        'propertycountylandusecode': np.str,\n",
    "        'propertyzoningdesc': np.str,\n",
    "        'fireplaceflag': np.bool,\n",
    "        'taxdelinquencyflag': np.str}\n",
    ")"
   ]
  },
  {
   "cell_type": "code",
   "execution_count": 7,
   "metadata": {},
   "outputs": [
    {
     "name": "stdout",
     "output_type": "stream",
     "text": [
      "[nan 'Y']\n"
     ]
    }
   ],
   "source": [
    "print(data_X['taxdelinquencyflag'].unique())\n",
    "data_X['taxdelinquencyflag'] = data_X['taxdelinquencyflag'].map({'Y': True})"
   ]
  },
  {
   "cell_type": "code",
   "execution_count": 8,
   "metadata": {
    "collapsed": true
   },
   "outputs": [],
   "source": [
    "for c, dtype in zip(data_X.columns, data_X.dtypes):\t\n",
    "    if dtype == np.float64:\n",
    "        data_X[c] = data_X[c].astype(np.float32)"
   ]
  },
  {
   "cell_type": "code",
   "execution_count": 9,
   "metadata": {
    "collapsed": true
   },
   "outputs": [],
   "source": [
    "merged_data = data_y.merge(data_X, on='parcelid')"
   ]
  },
  {
   "cell_type": "code",
   "execution_count": 10,
   "metadata": {},
   "outputs": [
    {
     "data": {
      "text/plain": [
       "parcelid                        False\n",
       "logerror                        False\n",
       "transactiondate                 False\n",
       "month                           False\n",
       "airconditioningtypeid            True\n",
       "architecturalstyletypeid         True\n",
       "basementsqft                     True\n",
       "bathroomcnt                      True\n",
       "bedroomcnt                       True\n",
       "buildingclasstypeid              True\n",
       "buildingqualitytypeid            True\n",
       "calculatedbathnbr                True\n",
       "decktypeid                       True\n",
       "finishedfloor1squarefeet         True\n",
       "calculatedfinishedsquarefeet     True\n",
       "finishedsquarefeet12             True\n",
       "finishedsquarefeet13             True\n",
       "finishedsquarefeet15             True\n",
       "finishedsquarefeet50             True\n",
       "finishedsquarefeet6              True\n",
       "fips                             True\n",
       "fireplacecnt                     True\n",
       "fullbathcnt                      True\n",
       "garagecarcnt                     True\n",
       "garagetotalsqft                  True\n",
       "hashottuborspa                   True\n",
       "heatingorsystemtypeid            True\n",
       "latitude                         True\n",
       "longitude                        True\n",
       "lotsizesquarefeet                True\n",
       "                                ...  \n",
       "poolsizesum                      True\n",
       "pooltypeid10                     True\n",
       "pooltypeid2                      True\n",
       "pooltypeid7                      True\n",
       "propertycountylandusecode        True\n",
       "propertylandusetypeid            True\n",
       "propertyzoningdesc               True\n",
       "rawcensustractandblock           True\n",
       "regionidcity                     True\n",
       "regionidcounty                   True\n",
       "regionidneighborhood             True\n",
       "regionidzip                      True\n",
       "roomcnt                          True\n",
       "storytypeid                      True\n",
       "threequarterbathnbr              True\n",
       "typeconstructiontypeid           True\n",
       "unitcnt                          True\n",
       "yardbuildingsqft17               True\n",
       "yardbuildingsqft26               True\n",
       "yearbuilt                        True\n",
       "numberofstories                  True\n",
       "fireplaceflag                    True\n",
       "structuretaxvaluedollarcnt       True\n",
       "taxvaluedollarcnt                True\n",
       "assessmentyear                   True\n",
       "landtaxvaluedollarcnt            True\n",
       "taxamount                        True\n",
       "taxdelinquencyflag               True\n",
       "taxdelinquencyyear               True\n",
       "censustractandblock              True\n",
       "Length: 61, dtype: bool"
      ]
     },
     "execution_count": 10,
     "metadata": {},
     "output_type": "execute_result"
    }
   ],
   "source": [
    "pd.isnull(merged_data).sum() > 0"
   ]
  },
  {
   "cell_type": "code",
   "execution_count": 11,
   "metadata": {},
   "outputs": [
    {
     "data": {
      "text/plain": [
       "array([   nan,   814.,   330.,   168.,   671.,  1555.,  1528.,   771.,\n",
       "         700.,   831.,  1048.,  1312.,   690.,   564.,   198.,   676.,\n",
       "         184.,   540.,   260.,   557.,   312.,   913.,  1350.,   802.,\n",
       "         162.,   616.,  1551.,   485.,   238.,   493.,   760.,   515.,\n",
       "         196.,   585.,   234.,   510.,   579.,   100.,   608.,  1210.])"
      ]
     },
     "execution_count": 11,
     "metadata": {},
     "output_type": "execute_result"
    }
   ],
   "source": [
    "merged_data['basementsqft'].unique()"
   ]
  },
  {
   "cell_type": "code",
   "execution_count": 12,
   "metadata": {},
   "outputs": [
    {
     "name": "stdout",
     "output_type": "stream",
     "text": [
      "[nan True]\n",
      "[nan True]\n",
      "[nan True]\n"
     ]
    }
   ],
   "source": [
    "print(merged_data['hashottuborspa'].unique())\n",
    "print(merged_data['fireplaceflag'].unique())\n",
    "print(merged_data['taxdelinquencyflag'].unique())\n",
    "for f in ['hashottuborspa', 'fireplaceflag', 'taxdelinquencyflag']:\n",
    "    merged_data[f] = merged_data[f].astype(np.bool)"
   ]
  },
  {
   "cell_type": "code",
   "execution_count": 13,
   "metadata": {},
   "outputs": [
    {
     "name": "stderr",
     "output_type": "stream",
     "text": [
      "/usr/lib/python3.6/json/encoder.py:199: DeprecationWarning: Interpreting naive datetime as local 2017-06-03 15:46:43.450082. Please add timezone info to timestamps.\n",
      "  chunks = self.iterencode(o, _one_shot=True)\n"
     ]
    }
   ],
   "source": [
    "from xgboost.sklearn import XGBRegressor\n",
    "\n",
    "hyper_params = {\n",
    "    'learning_rate': 0.1,\n",
    "    'max_depth': 4,\n",
    "    'n_jobs': 2,\n",
    "    'objective': 'reg:linear',\n",
    "    #'reg_alpha': 1.7,\n",
    "    #'reg_lambda': 1,\n",
    "    # 'gamma': 0.01,\n",
    "    'min_child_weight': 5,\n",
    "\n",
    "}\n",
    "clf=None\n",
    "clf = XGBRegressor(**hyper_params)"
   ]
  },
  {
   "cell_type": "code",
   "execution_count": 14,
   "metadata": {},
   "outputs": [
    {
     "ename": "NameError",
     "evalue": "name 'train_X' is not defined",
     "output_type": "error",
     "traceback": [
      "\u001b[0;31m---------------------------------------------------------------------------\u001b[0m",
      "\u001b[0;31mNameError\u001b[0m                                 Traceback (most recent call last)",
      "\u001b[0;32m<ipython-input-14-c1f237c6e4a8>\u001b[0m in \u001b[0;36m<module>\u001b[0;34m()\u001b[0m\n\u001b[1;32m      1\u001b[0m \u001b[0;31m# 0.070707 val score mit max_depth=4, min_child_weight=5, learning_rate=0.1\u001b[0m\u001b[0;34m\u001b[0m\u001b[0;34m\u001b[0m\u001b[0m\n\u001b[1;32m      2\u001b[0m clf.fit(\n\u001b[0;32m----> 3\u001b[0;31m     \u001b[0mX\u001b[0m\u001b[0;34m=\u001b[0m\u001b[0mtrain_X\u001b[0m\u001b[0;34m.\u001b[0m\u001b[0mvalues\u001b[0m\u001b[0;34m,\u001b[0m\u001b[0;34m\u001b[0m\u001b[0m\n\u001b[0m\u001b[1;32m      4\u001b[0m     \u001b[0my\u001b[0m\u001b[0;34m=\u001b[0m\u001b[0mtrain_y\u001b[0m\u001b[0;34m.\u001b[0m\u001b[0mvalues\u001b[0m\u001b[0;34m,\u001b[0m\u001b[0;34m\u001b[0m\u001b[0m\n\u001b[1;32m      5\u001b[0m     \u001b[0mearly_stopping_rounds\u001b[0m\u001b[0;34m=\u001b[0m\u001b[0;36m10\u001b[0m\u001b[0;34m,\u001b[0m\u001b[0;34m\u001b[0m\u001b[0m\n",
      "\u001b[0;31mNameError\u001b[0m: name 'train_X' is not defined"
     ]
    },
    {
     "name": "stderr",
     "output_type": "stream",
     "text": [
      "/usr/lib/python3.6/json/encoder.py:199: DeprecationWarning: Interpreting naive datetime as local 2017-06-03 15:46:45.095225. Please add timezone info to timestamps.\n",
      "  chunks = self.iterencode(o, _one_shot=True)\n"
     ]
    }
   ],
   "source": [
    "# 0.070707 val score mit max_depth=4, min_child_weight=5, learning_rate=0.1\n",
    "clf.fit(\n",
    "    X=train_X.values,\n",
    "    y=train_y.values,\n",
    "    early_stopping_rounds=10,\n",
    "    eval_set=[(train_X.values, train_y.values), (test_X.values, test_y.values)],\n",
    "    verbose=True,\n",
    "    eval_metric='mae'\n",
    ")"
   ]
  },
  {
   "cell_type": "markdown",
   "metadata": {},
   "source": [
    "# Procedure based on https://www.analyticsvidhya.com/blog/2016/03/complete-guide-parameter-tuning-xgboost-with-codes-python/\n",
    "# At first find out how many trees are needed by early stopping"
   ]
  },
  {
   "cell_type": "code",
   "execution_count": 15,
   "metadata": {},
   "outputs": [
    {
     "name": "stderr",
     "output_type": "stream",
     "text": [
      "/usr/lib/python3.6/site-packages/xgboost/sklearn.py:161: DeprecationWarning: The seed parameter is deprecated as of version .6.Please use random_state instead.seed is deprecated.\n",
      "  'seed is deprecated.', DeprecationWarning)\n",
      "/usr/lib/python3.6/site-packages/xgboost/sklearn.py:171: DeprecationWarning: The nthread parameter is deprecated as of version .6.Please use n_jobs instead.nthread is deprecated.\n",
      "  'nthread is deprecated.', DeprecationWarning)\n"
     ]
    }
   ],
   "source": [
    "import xgboost as xgb\n",
    "\n",
    "xgb1 = XGBRegressor(\n",
    "    learning_rate =0.1,\n",
    "    n_estimators=20000,\n",
    "    max_depth=4,\n",
    "    objective='reg:linear',\n",
    "    nthread=2,\n",
    "    seed=27\n",
    ")\n",
    "\n",
    "\n",
    "xgtrain = xgb.DMatrix(\n",
    "     merged_data.drop(\n",
    "        ['parcelid', 'logerror', 'transactiondate', 'propertyzoningdesc', 'propertycountylandusecode', 'month'],\n",
    "        axis=1\n",
    "    ).values,\n",
    "    label=merged_data['logerror'].values,\n",
    ")\n",
    "\n",
    "cvresult = xgb.cv(\n",
    "    xgb1.get_xgb_params(),\n",
    "    xgtrain,\n",
    "    num_boost_round=xgb1.get_params()['n_estimators'],\n",
    "    nfold=10,\n",
    "    metrics='mae',\n",
    "    early_stopping_rounds=50,\n",
    "    verbose_eval=False\n",
    ")"
   ]
  },
  {
   "cell_type": "code",
   "execution_count": 16,
   "metadata": {},
   "outputs": [
    {
     "name": "stdout",
     "output_type": "stream",
     "text": [
      "65\n"
     ]
    },
    {
     "data": {
      "text/html": [
       "<div>\n",
       "<style>\n",
       "    .dataframe thead tr:only-child th {\n",
       "        text-align: right;\n",
       "    }\n",
       "\n",
       "    .dataframe thead th {\n",
       "        text-align: left;\n",
       "    }\n",
       "\n",
       "    .dataframe tbody tr th {\n",
       "        vertical-align: top;\n",
       "    }\n",
       "</style>\n",
       "<table border=\"1\" class=\"dataframe\">\n",
       "  <thead>\n",
       "    <tr style=\"text-align: right;\">\n",
       "      <th></th>\n",
       "      <th>test-mae-mean</th>\n",
       "      <th>test-mae-std</th>\n",
       "      <th>train-mae-mean</th>\n",
       "      <th>train-mae-std</th>\n",
       "    </tr>\n",
       "  </thead>\n",
       "  <tbody>\n",
       "    <tr>\n",
       "      <th>60</th>\n",
       "      <td>0.069366</td>\n",
       "      <td>0.001279</td>\n",
       "      <td>0.068328</td>\n",
       "      <td>0.000146</td>\n",
       "    </tr>\n",
       "    <tr>\n",
       "      <th>61</th>\n",
       "      <td>0.069361</td>\n",
       "      <td>0.001278</td>\n",
       "      <td>0.068310</td>\n",
       "      <td>0.000147</td>\n",
       "    </tr>\n",
       "    <tr>\n",
       "      <th>62</th>\n",
       "      <td>0.069359</td>\n",
       "      <td>0.001277</td>\n",
       "      <td>0.068296</td>\n",
       "      <td>0.000146</td>\n",
       "    </tr>\n",
       "    <tr>\n",
       "      <th>63</th>\n",
       "      <td>0.069358</td>\n",
       "      <td>0.001273</td>\n",
       "      <td>0.068282</td>\n",
       "      <td>0.000147</td>\n",
       "    </tr>\n",
       "    <tr>\n",
       "      <th>64</th>\n",
       "      <td>0.069358</td>\n",
       "      <td>0.001273</td>\n",
       "      <td>0.068271</td>\n",
       "      <td>0.000150</td>\n",
       "    </tr>\n",
       "  </tbody>\n",
       "</table>\n",
       "</div>"
      ],
      "text/plain": [
       "    test-mae-mean  test-mae-std  train-mae-mean  train-mae-std\n",
       "60       0.069366      0.001279        0.068328       0.000146\n",
       "61       0.069361      0.001278        0.068310       0.000147\n",
       "62       0.069359      0.001277        0.068296       0.000146\n",
       "63       0.069358      0.001273        0.068282       0.000147\n",
       "64       0.069358      0.001273        0.068271       0.000150"
      ]
     },
     "execution_count": 16,
     "metadata": {},
     "output_type": "execute_result"
    }
   ],
   "source": [
    "n_trees = len(cvresult)\n",
    "print(n_trees)\n",
    "cvresult.tail()"
   ]
  },
  {
   "cell_type": "markdown",
   "metadata": {},
   "source": [
    "# Then fix the number of trees and perform a grid search with cross validation to find optimal hyper parameters"
   ]
  },
  {
   "cell_type": "code",
   "execution_count": 18,
   "metadata": {},
   "outputs": [
    {
     "name": "stderr",
     "output_type": "stream",
     "text": [
      "/usr/lib/python3.6/site-packages/sklearn/model_selection/_search.py:667: DeprecationWarning: The grid_scores_ attribute was deprecated in version 0.18 in favor of the more elaborate cv_results_ attribute. The grid_scores_ attribute will not be available from 0.20\n",
      "  DeprecationWarning)\n"
     ]
    },
    {
     "data": {
      "text/plain": [
       "([mean: -0.06925, std: 0.00357, params: {'learning_rate': 0.1, 'max_depth': 3, 'min_child_weight': 1, 'n_estimators': 65, 'objective': 'reg:linear'},\n",
       "  mean: -0.06929, std: 0.00353, params: {'learning_rate': 0.1, 'max_depth': 3, 'min_child_weight': 3, 'n_estimators': 65, 'objective': 'reg:linear'},\n",
       "  mean: -0.06923, std: 0.00354, params: {'learning_rate': 0.1, 'max_depth': 3, 'min_child_weight': 5, 'n_estimators': 65, 'objective': 'reg:linear'},\n",
       "  mean: -0.06950, std: 0.00358, params: {'learning_rate': 0.1, 'max_depth': 5, 'min_child_weight': 1, 'n_estimators': 65, 'objective': 'reg:linear'},\n",
       "  mean: -0.06948, std: 0.00357, params: {'learning_rate': 0.1, 'max_depth': 5, 'min_child_weight': 3, 'n_estimators': 65, 'objective': 'reg:linear'},\n",
       "  mean: -0.06939, std: 0.00357, params: {'learning_rate': 0.1, 'max_depth': 5, 'min_child_weight': 5, 'n_estimators': 65, 'objective': 'reg:linear'},\n",
       "  mean: -0.06981, std: 0.00354, params: {'learning_rate': 0.1, 'max_depth': 7, 'min_child_weight': 1, 'n_estimators': 65, 'objective': 'reg:linear'},\n",
       "  mean: -0.06982, std: 0.00352, params: {'learning_rate': 0.1, 'max_depth': 7, 'min_child_weight': 3, 'n_estimators': 65, 'objective': 'reg:linear'},\n",
       "  mean: -0.06971, std: 0.00356, params: {'learning_rate': 0.1, 'max_depth': 7, 'min_child_weight': 5, 'n_estimators': 65, 'objective': 'reg:linear'},\n",
       "  mean: -0.07040, std: 0.00347, params: {'learning_rate': 0.1, 'max_depth': 9, 'min_child_weight': 1, 'n_estimators': 65, 'objective': 'reg:linear'},\n",
       "  mean: -0.07034, std: 0.00349, params: {'learning_rate': 0.1, 'max_depth': 9, 'min_child_weight': 3, 'n_estimators': 65, 'objective': 'reg:linear'},\n",
       "  mean: -0.07013, std: 0.00354, params: {'learning_rate': 0.1, 'max_depth': 9, 'min_child_weight': 5, 'n_estimators': 65, 'objective': 'reg:linear'}],\n",
       " {'learning_rate': 0.1,\n",
       "  'max_depth': 3,\n",
       "  'min_child_weight': 5,\n",
       "  'n_estimators': 65,\n",
       "  'objective': 'reg:linear'},\n",
       " -0.069228439477046239)"
      ]
     },
     "execution_count": 18,
     "metadata": {},
     "output_type": "execute_result"
    }
   ],
   "source": [
    "from sklearn.metrics import make_scorer, mean_absolute_error\n",
    "\n",
    "from sklearn.model_selection import GridSearchCV\n",
    "\n",
    "\n",
    "X = merged_data.drop(\n",
    "    ['parcelid', 'logerror', 'transactiondate', 'propertyzoningdesc', 'propertycountylandusecode', 'month'],\n",
    "    axis=1).values\n",
    "\n",
    "y = merged_data['logerror'].values\n",
    "\n",
    "param_dist = {\n",
    "    'learning_rate': [0.1],\n",
    "    'n_estimators' : [n_trees],\n",
    "    'max_depth': range(3,10,2),\n",
    "    'min_child_weight': range(1,6,2),\n",
    "    'objective': ['reg:linear']\n",
    "}\n",
    "gsearch1 = GridSearchCV(\n",
    "    estimator = XGBRegressor( \n",
    "        learning_rate =0.1,\n",
    "        n_estimators=n_trees,\n",
    "        max_depth=5,\n",
    "        min_child_weight=1,\n",
    "        gamma=0,\n",
    "        subsample=0.8,\n",
    "        colsample_bytree=0.8,\n",
    "        objective= 'reg:linear',\n",
    "        nthread=2,\n",
    "        scale_pos_weight=1,\n",
    "        seed=27\n",
    "    ), \n",
    "    param_grid = param_dist,\n",
    "    scoring=make_scorer(mean_absolute_error, greater_is_better=False),\n",
    "    n_jobs=1,\n",
    "    iid=False,\n",
    "    cv=10\n",
    ")\n",
    "\n",
    "gsearch1.fit(X, y)\n",
    "gsearch1.grid_scores_, gsearch1.best_params_, gsearch1.best_score_"
   ]
  },
  {
   "cell_type": "code",
   "execution_count": 19,
   "metadata": {},
   "outputs": [
    {
     "name": "stdout",
     "output_type": "stream",
     "text": [
      "3\n",
      "5\n"
     ]
    }
   ],
   "source": [
    "max_depth = gsearch1.best_params_['max_depth']\n",
    "print(max_depth)\n",
    "min_child_weight = gsearch1.best_params_['min_child_weight']\n",
    "print(min_child_weight)"
   ]
  },
  {
   "cell_type": "code",
   "execution_count": 20,
   "metadata": {},
   "outputs": [
    {
     "name": "stderr",
     "output_type": "stream",
     "text": [
      "/usr/lib/python3.6/site-packages/sklearn/model_selection/_search.py:667: DeprecationWarning: The grid_scores_ attribute was deprecated in version 0.18 in favor of the more elaborate cv_results_ attribute. The grid_scores_ attribute will not be available from 0.20\n",
      "  DeprecationWarning)\n"
     ]
    },
    {
     "data": {
      "text/plain": [
       "([mean: -0.06916, std: 0.00354, params: {'learning_rate': 0.1, 'max_depth': 2, 'min_child_weight': 4, 'n_estimators': 65, 'objective': 'reg:linear'},\n",
       "  mean: -0.06913, std: 0.00356, params: {'learning_rate': 0.1, 'max_depth': 2, 'min_child_weight': 5, 'n_estimators': 65, 'objective': 'reg:linear'},\n",
       "  mean: -0.06913, std: 0.00356, params: {'learning_rate': 0.1, 'max_depth': 2, 'min_child_weight': 6, 'n_estimators': 65, 'objective': 'reg:linear'},\n",
       "  mean: -0.06924, std: 0.00354, params: {'learning_rate': 0.1, 'max_depth': 3, 'min_child_weight': 4, 'n_estimators': 65, 'objective': 'reg:linear'},\n",
       "  mean: -0.06923, std: 0.00354, params: {'learning_rate': 0.1, 'max_depth': 3, 'min_child_weight': 5, 'n_estimators': 65, 'objective': 'reg:linear'},\n",
       "  mean: -0.06922, std: 0.00353, params: {'learning_rate': 0.1, 'max_depth': 3, 'min_child_weight': 6, 'n_estimators': 65, 'objective': 'reg:linear'},\n",
       "  mean: -0.06932, std: 0.00354, params: {'learning_rate': 0.1, 'max_depth': 4, 'min_child_weight': 4, 'n_estimators': 65, 'objective': 'reg:linear'},\n",
       "  mean: -0.06930, std: 0.00354, params: {'learning_rate': 0.1, 'max_depth': 4, 'min_child_weight': 5, 'n_estimators': 65, 'objective': 'reg:linear'},\n",
       "  mean: -0.06928, std: 0.00351, params: {'learning_rate': 0.1, 'max_depth': 4, 'min_child_weight': 6, 'n_estimators': 65, 'objective': 'reg:linear'}],\n",
       " {'learning_rate': 0.1,\n",
       "  'max_depth': 2,\n",
       "  'min_child_weight': 6,\n",
       "  'n_estimators': 65,\n",
       "  'objective': 'reg:linear'},\n",
       " -0.069125067031018075)"
      ]
     },
     "execution_count": 20,
     "metadata": {},
     "output_type": "execute_result"
    }
   ],
   "source": [
    "param_test2 = {\n",
    "    'max_depth':[max_depth-1, max_depth, max_depth+1],\n",
    "    'min_child_weight':[min_child_weight-1, min_child_weight, min_child_weight+1],\n",
    "    'learning_rate': [0.1],\n",
    "    'n_estimators' : [n_trees],\n",
    "    'objective': ['reg:linear']\n",
    "}\n",
    "\n",
    "gsearch2 = GridSearchCV(\n",
    "    estimator = XGBRegressor( \n",
    "        learning_rate =0.1,\n",
    "        n_estimators=n_trees,\n",
    "        max_depth=5,\n",
    "        min_child_weight=1,\n",
    "        gamma=0,\n",
    "        subsample=0.8,\n",
    "        colsample_bytree=0.8,\n",
    "        objective= 'reg:linear',\n",
    "        nthread=2,\n",
    "        scale_pos_weight=1,\n",
    "        seed=27\n",
    "    ), \n",
    "    param_grid = param_test2,\n",
    "    scoring=make_scorer(mean_absolute_error, greater_is_better=False),\n",
    "    n_jobs=1,\n",
    "    iid=False,\n",
    "    cv=10\n",
    ")\n",
    "\n",
    "gsearch2.fit(X, y)\n",
    "gsearch2.grid_scores_, gsearch2.best_params_, gsearch2.best_score_"
   ]
  },
  {
   "cell_type": "code",
   "execution_count": 21,
   "metadata": {},
   "outputs": [
    {
     "name": "stdout",
     "output_type": "stream",
     "text": [
      "2\n",
      "6\n"
     ]
    }
   ],
   "source": [
    "max_depth = gsearch2.best_params_['max_depth']\n",
    "print(max_depth)\n",
    "min_child_weight = gsearch2.best_params_['min_child_weight']\n",
    "print(min_child_weight)"
   ]
  },
  {
   "cell_type": "code",
   "execution_count": 22,
   "metadata": {},
   "outputs": [
    {
     "name": "stderr",
     "output_type": "stream",
     "text": [
      "/usr/lib/python3.6/site-packages/sklearn/model_selection/_search.py:667: DeprecationWarning: The grid_scores_ attribute was deprecated in version 0.18 in favor of the more elaborate cv_results_ attribute. The grid_scores_ attribute will not be available from 0.20\n",
      "  DeprecationWarning)\n"
     ]
    },
    {
     "data": {
      "text/plain": [
       "([mean: -0.06919, std: 0.00362, params: {'learning_rate': 0.1, 'max_depth': 1, 'min_child_weight': 5, 'n_estimators': 65, 'objective': 'reg:linear'},\n",
       "  mean: -0.06918, std: 0.00362, params: {'learning_rate': 0.1, 'max_depth': 1, 'min_child_weight': 6, 'n_estimators': 65, 'objective': 'reg:linear'},\n",
       "  mean: -0.06918, std: 0.00363, params: {'learning_rate': 0.1, 'max_depth': 1, 'min_child_weight': 7, 'n_estimators': 65, 'objective': 'reg:linear'},\n",
       "  mean: -0.06913, std: 0.00356, params: {'learning_rate': 0.1, 'max_depth': 2, 'min_child_weight': 5, 'n_estimators': 65, 'objective': 'reg:linear'},\n",
       "  mean: -0.06913, std: 0.00356, params: {'learning_rate': 0.1, 'max_depth': 2, 'min_child_weight': 6, 'n_estimators': 65, 'objective': 'reg:linear'},\n",
       "  mean: -0.06915, std: 0.00356, params: {'learning_rate': 0.1, 'max_depth': 2, 'min_child_weight': 7, 'n_estimators': 65, 'objective': 'reg:linear'}],\n",
       " {'learning_rate': 0.1,\n",
       "  'max_depth': 2,\n",
       "  'min_child_weight': 6,\n",
       "  'n_estimators': 65,\n",
       "  'objective': 'reg:linear'},\n",
       " -0.069125067031018075)"
      ]
     },
     "execution_count": 22,
     "metadata": {},
     "output_type": "execute_result"
    }
   ],
   "source": [
    "param_test2b = {\n",
    "    'max_depth':[1, 2],\n",
    "    'min_child_weight':[5, 6, 7],\n",
    "    'learning_rate': [0.1],\n",
    "    'n_estimators' : [n_trees],\n",
    "    'objective': ['reg:linear']\n",
    "}\n",
    "\n",
    "gsearch2b = GridSearchCV(\n",
    "    estimator = XGBRegressor( \n",
    "        learning_rate =0.1,\n",
    "        n_estimators=n_trees,\n",
    "        max_depth=5,\n",
    "        min_child_weight=1,\n",
    "        gamma=0,\n",
    "        subsample=0.8,\n",
    "        colsample_bytree=0.8,\n",
    "        objective= 'reg:linear',\n",
    "        nthread=2,\n",
    "        scale_pos_weight=1,\n",
    "        seed=27\n",
    "    ), \n",
    "    param_grid = param_test2b,\n",
    "    scoring=make_scorer(mean_absolute_error, greater_is_better=False),\n",
    "    n_jobs=1,\n",
    "    iid=False,\n",
    "    cv=10\n",
    ")\n",
    "\n",
    "gsearch2b.fit(X, y)\n",
    "gsearch2b.grid_scores_, gsearch2b.best_params_, gsearch2b.best_score_"
   ]
  },
  {
   "cell_type": "code",
   "execution_count": 23,
   "metadata": {},
   "outputs": [
    {
     "name": "stdout",
     "output_type": "stream",
     "text": [
      "2\n",
      "6\n"
     ]
    }
   ],
   "source": [
    "max_depth = gsearch2b.best_params_['max_depth']\n",
    "print(max_depth)\n",
    "min_child_weight = gsearch2b.best_params_['min_child_weight']\n",
    "print(min_child_weight)"
   ]
  },
  {
   "cell_type": "code",
   "execution_count": 24,
   "metadata": {},
   "outputs": [
    {
     "name": "stderr",
     "output_type": "stream",
     "text": [
      "/usr/lib/python3.6/site-packages/sklearn/model_selection/_search.py:667: DeprecationWarning: The grid_scores_ attribute was deprecated in version 0.18 in favor of the more elaborate cv_results_ attribute. The grid_scores_ attribute will not be available from 0.20\n",
      "  DeprecationWarning)\n"
     ]
    },
    {
     "data": {
      "text/plain": [
       "([mean: -0.06913, std: 0.00356, params: {'gamma': 0.0},\n",
       "  mean: -0.06913, std: 0.00356, params: {'gamma': 0.1},\n",
       "  mean: -0.06913, std: 0.00356, params: {'gamma': 0.2},\n",
       "  mean: -0.06913, std: 0.00356, params: {'gamma': 0.3},\n",
       "  mean: -0.06913, std: 0.00356, params: {'gamma': 0.4}],\n",
       " {'gamma': 0.0},\n",
       " -0.069125067031018075)"
      ]
     },
     "execution_count": 24,
     "metadata": {},
     "output_type": "execute_result"
    }
   ],
   "source": [
    "param_test3 = {\n",
    " 'gamma':[i/10.0 for i in range(0,5)]\n",
    "}\n",
    "\n",
    "gsearch3 = GridSearchCV(\n",
    "    estimator = XGBRegressor( \n",
    "        learning_rate =0.1,\n",
    "        n_estimators=n_trees,\n",
    "        max_depth=max_depth,\n",
    "        min_child_weight=min_child_weight,\n",
    "        gamma=0,\n",
    "        subsample=0.8,\n",
    "        colsample_bytree=0.8,\n",
    "        objective= 'reg:linear',\n",
    "        nthread=2,\n",
    "        scale_pos_weight=1,\n",
    "        seed=27\n",
    "    ), \n",
    "    param_grid = param_test3,\n",
    "    scoring=make_scorer(mean_absolute_error, greater_is_better=False),\n",
    "    n_jobs=1,\n",
    "    iid=False,\n",
    "    cv=10\n",
    ")\n",
    "\n",
    "gsearch3.fit(X, y)\n",
    "gsearch3.grid_scores_, gsearch3.best_params_, gsearch3.best_score_"
   ]
  },
  {
   "cell_type": "code",
   "execution_count": 25,
   "metadata": {},
   "outputs": [
    {
     "name": "stdout",
     "output_type": "stream",
     "text": [
      "0.0\n"
     ]
    }
   ],
   "source": [
    "gamma = gsearch3.best_params_['gamma']\n",
    "print(gamma)"
   ]
  },
  {
   "cell_type": "code",
   "execution_count": 26,
   "metadata": {
    "collapsed": true
   },
   "outputs": [],
   "source": [
    "xgb2 = XGBRegressor(\n",
    "    learning_rate =0.1,\n",
    "    n_estimators=20000,\n",
    "    max_depth=max_depth,\n",
    "    min_child_weight=min_child_weight,\n",
    "    gamma=gamma,\n",
    "    objective='reg:linear',\n",
    "    nthread=2,\n",
    "    seed=27\n",
    ")\n",
    "\n",
    "\n",
    "cvresult = xgb.cv(\n",
    "    xgb2.get_xgb_params(),\n",
    "    xgtrain,\n",
    "    num_boost_round=xgb2.get_params()['n_estimators'],\n",
    "    nfold=10,\n",
    "    metrics='mae',\n",
    "    early_stopping_rounds=50,\n",
    "    verbose_eval=False\n",
    ")"
   ]
  },
  {
   "cell_type": "code",
   "execution_count": 27,
   "metadata": {},
   "outputs": [
    {
     "name": "stdout",
     "output_type": "stream",
     "text": [
      "81\n"
     ]
    },
    {
     "data": {
      "text/html": [
       "<div>\n",
       "<style>\n",
       "    .dataframe thead tr:only-child th {\n",
       "        text-align: right;\n",
       "    }\n",
       "\n",
       "    .dataframe thead th {\n",
       "        text-align: left;\n",
       "    }\n",
       "\n",
       "    .dataframe tbody tr th {\n",
       "        vertical-align: top;\n",
       "    }\n",
       "</style>\n",
       "<table border=\"1\" class=\"dataframe\">\n",
       "  <thead>\n",
       "    <tr style=\"text-align: right;\">\n",
       "      <th></th>\n",
       "      <th>test-mae-mean</th>\n",
       "      <th>test-mae-std</th>\n",
       "      <th>train-mae-mean</th>\n",
       "      <th>train-mae-std</th>\n",
       "    </tr>\n",
       "  </thead>\n",
       "  <tbody>\n",
       "    <tr>\n",
       "      <th>76</th>\n",
       "      <td>0.069100</td>\n",
       "      <td>0.001269</td>\n",
       "      <td>0.068800</td>\n",
       "      <td>0.000157</td>\n",
       "    </tr>\n",
       "    <tr>\n",
       "      <th>77</th>\n",
       "      <td>0.069100</td>\n",
       "      <td>0.001270</td>\n",
       "      <td>0.068796</td>\n",
       "      <td>0.000156</td>\n",
       "    </tr>\n",
       "    <tr>\n",
       "      <th>78</th>\n",
       "      <td>0.069102</td>\n",
       "      <td>0.001268</td>\n",
       "      <td>0.068794</td>\n",
       "      <td>0.000157</td>\n",
       "    </tr>\n",
       "    <tr>\n",
       "      <th>79</th>\n",
       "      <td>0.069100</td>\n",
       "      <td>0.001269</td>\n",
       "      <td>0.068791</td>\n",
       "      <td>0.000156</td>\n",
       "    </tr>\n",
       "    <tr>\n",
       "      <th>80</th>\n",
       "      <td>0.069098</td>\n",
       "      <td>0.001267</td>\n",
       "      <td>0.068789</td>\n",
       "      <td>0.000155</td>\n",
       "    </tr>\n",
       "  </tbody>\n",
       "</table>\n",
       "</div>"
      ],
      "text/plain": [
       "    test-mae-mean  test-mae-std  train-mae-mean  train-mae-std\n",
       "76       0.069100      0.001269        0.068800       0.000157\n",
       "77       0.069100      0.001270        0.068796       0.000156\n",
       "78       0.069102      0.001268        0.068794       0.000157\n",
       "79       0.069100      0.001269        0.068791       0.000156\n",
       "80       0.069098      0.001267        0.068789       0.000155"
      ]
     },
     "execution_count": 27,
     "metadata": {},
     "output_type": "execute_result"
    }
   ],
   "source": [
    "n_trees = len(cvresult)\n",
    "print(n_trees)\n",
    "cvresult.tail()"
   ]
  },
  {
   "cell_type": "code",
   "execution_count": 28,
   "metadata": {},
   "outputs": [
    {
     "name": "stderr",
     "output_type": "stream",
     "text": [
      "/usr/lib/python3.6/site-packages/sklearn/model_selection/_search.py:667: DeprecationWarning: The grid_scores_ attribute was deprecated in version 0.18 in favor of the more elaborate cv_results_ attribute. The grid_scores_ attribute will not be available from 0.20\n",
      "  DeprecationWarning)\n"
     ]
    },
    {
     "data": {
      "text/plain": [
       "([mean: -0.06918, std: 0.00359, params: {'colsample_bytree': 0.6, 'subsample': 0.6},\n",
       "  mean: -0.06917, std: 0.00359, params: {'colsample_bytree': 0.6, 'subsample': 0.7},\n",
       "  mean: -0.06913, std: 0.00360, params: {'colsample_bytree': 0.6, 'subsample': 0.8},\n",
       "  mean: -0.06913, std: 0.00358, params: {'colsample_bytree': 0.6, 'subsample': 0.9},\n",
       "  mean: -0.06918, std: 0.00357, params: {'colsample_bytree': 0.7, 'subsample': 0.6},\n",
       "  mean: -0.06915, std: 0.00361, params: {'colsample_bytree': 0.7, 'subsample': 0.7},\n",
       "  mean: -0.06913, std: 0.00358, params: {'colsample_bytree': 0.7, 'subsample': 0.8},\n",
       "  mean: -0.06914, std: 0.00357, params: {'colsample_bytree': 0.7, 'subsample': 0.9},\n",
       "  mean: -0.06916, std: 0.00356, params: {'colsample_bytree': 0.8, 'subsample': 0.6},\n",
       "  mean: -0.06915, std: 0.00358, params: {'colsample_bytree': 0.8, 'subsample': 0.7},\n",
       "  mean: -0.06910, std: 0.00356, params: {'colsample_bytree': 0.8, 'subsample': 0.8},\n",
       "  mean: -0.06912, std: 0.00357, params: {'colsample_bytree': 0.8, 'subsample': 0.9},\n",
       "  mean: -0.06917, std: 0.00359, params: {'colsample_bytree': 0.9, 'subsample': 0.6},\n",
       "  mean: -0.06915, std: 0.00358, params: {'colsample_bytree': 0.9, 'subsample': 0.7},\n",
       "  mean: -0.06912, std: 0.00358, params: {'colsample_bytree': 0.9, 'subsample': 0.8},\n",
       "  mean: -0.06913, std: 0.00359, params: {'colsample_bytree': 0.9, 'subsample': 0.9}],\n",
       " {'colsample_bytree': 0.8, 'subsample': 0.8},\n",
       " -0.069100116040214155)"
      ]
     },
     "execution_count": 28,
     "metadata": {},
     "output_type": "execute_result"
    }
   ],
   "source": [
    "param_test4 = {\n",
    " 'subsample':[i/10.0 for i in range(6,10)],\n",
    " 'colsample_bytree':[i/10.0 for i in range(6,10)]\n",
    "}\n",
    "\n",
    "gsearch4 = GridSearchCV(\n",
    "    estimator = XGBRegressor( \n",
    "        learning_rate =0.1,\n",
    "        n_estimators=n_trees,\n",
    "        max_depth=max_depth,\n",
    "        min_child_weight=min_child_weight,\n",
    "        gamma=gamma,\n",
    "        subsample=0.8,\n",
    "        colsample_bytree=0.8,\n",
    "        objective= 'reg:linear',\n",
    "        nthread=2,\n",
    "        scale_pos_weight=1,\n",
    "        seed=27\n",
    "    ), \n",
    "    param_grid = param_test4,\n",
    "    scoring=make_scorer(mean_absolute_error, greater_is_better=False),\n",
    "    n_jobs=1,\n",
    "    iid=False,\n",
    "    cv=10\n",
    ")\n",
    "\n",
    "gsearch4.fit(X, y)\n",
    "gsearch4.grid_scores_, gsearch4.best_params_, gsearch4.best_score_"
   ]
  },
  {
   "cell_type": "code",
   "execution_count": 29,
   "metadata": {},
   "outputs": [
    {
     "name": "stdout",
     "output_type": "stream",
     "text": [
      "0.8\n",
      "0.8\n",
      "80\n",
      "80\n"
     ]
    }
   ],
   "source": [
    "subsample = gsearch4.best_params_['subsample']\n",
    "print(subsample)\n",
    "colsample_bytree = gsearch4.best_params_['colsample_bytree']\n",
    "print(colsample_bytree)\n",
    "colsample_bytree_times_hundred = int(colsample_bytree*100)\n",
    "subsample_times_hundred = int(subsample*100)\n",
    "print(colsample_bytree_times_hundred)\n",
    "print(subsample_times_hundred)"
   ]
  },
  {
   "cell_type": "code",
   "execution_count": 32,
   "metadata": {},
   "outputs": [
    {
     "name": "stderr",
     "output_type": "stream",
     "text": [
      "/usr/lib/python3.6/site-packages/sklearn/model_selection/_search.py:667: DeprecationWarning: The grid_scores_ attribute was deprecated in version 0.18 in favor of the more elaborate cv_results_ attribute. The grid_scores_ attribute will not be available from 0.20\n",
      "  DeprecationWarning)\n"
     ]
    },
    {
     "data": {
      "text/plain": [
       "([mean: -0.06914, std: 0.00357, params: {'colsample_bytree': 0.75, 'subsample': 0.75},\n",
       "  mean: -0.06910, std: 0.00356, params: {'colsample_bytree': 0.75, 'subsample': 0.8},\n",
       "  mean: -0.06914, std: 0.00358, params: {'colsample_bytree': 0.75, 'subsample': 0.85},\n",
       "  mean: -0.06915, std: 0.00358, params: {'colsample_bytree': 0.8, 'subsample': 0.75},\n",
       "  mean: -0.06910, std: 0.00356, params: {'colsample_bytree': 0.8, 'subsample': 0.8},\n",
       "  mean: -0.06913, std: 0.00358, params: {'colsample_bytree': 0.8, 'subsample': 0.85},\n",
       "  mean: -0.06915, std: 0.00358, params: {'colsample_bytree': 0.85, 'subsample': 0.75},\n",
       "  mean: -0.06912, std: 0.00354, params: {'colsample_bytree': 0.85, 'subsample': 0.8},\n",
       "  mean: -0.06913, std: 0.00356, params: {'colsample_bytree': 0.85, 'subsample': 0.85}],\n",
       " {'colsample_bytree': 0.8, 'subsample': 0.8},\n",
       " -0.069100116040214155)"
      ]
     },
     "execution_count": 32,
     "metadata": {},
     "output_type": "execute_result"
    }
   ],
   "source": [
    "param_test5 = {\n",
    " 'subsample':[i/100.0 for i in range(subsample_times_hundred-5,subsample_times_hundred+10,5)],\n",
    " 'colsample_bytree':[i/100.0 for i in range(colsample_bytree_times_hundred-5,colsample_bytree_times_hundred+10,5)]\n",
    "}\n",
    "\n",
    "gsearch5 = GridSearchCV(\n",
    "    estimator = XGBRegressor( \n",
    "        learning_rate =0.1,\n",
    "        n_estimators=n_trees,\n",
    "        max_depth=max_depth,\n",
    "        min_child_weight=min_child_weight,\n",
    "        gamma=gamma,\n",
    "        subsample=0.8,\n",
    "        colsample_bytree=0.8,\n",
    "        objective= 'reg:linear',\n",
    "        nthread=2,\n",
    "        scale_pos_weight=1,\n",
    "        seed=27\n",
    "    ), \n",
    "    param_grid = param_test5,\n",
    "    scoring=make_scorer(mean_absolute_error, greater_is_better=False),\n",
    "    n_jobs=1,\n",
    "    iid=False,\n",
    "    cv=10\n",
    ")\n",
    "\n",
    "gsearch5.fit(X, y)\n",
    "gsearch5.grid_scores_, gsearch5.best_params_, gsearch5.best_score_"
   ]
  },
  {
   "cell_type": "code",
   "execution_count": 33,
   "metadata": {},
   "outputs": [
    {
     "name": "stdout",
     "output_type": "stream",
     "text": [
      "0.8\n",
      "0.8\n"
     ]
    }
   ],
   "source": [
    "subsample = gsearch5.best_params_['subsample']\n",
    "print(subsample)\n",
    "colsample_bytree = gsearch5.best_params_['colsample_bytree']\n",
    "print(colsample_bytree)"
   ]
  },
  {
   "cell_type": "code",
   "execution_count": 34,
   "metadata": {},
   "outputs": [
    {
     "name": "stderr",
     "output_type": "stream",
     "text": [
      "/usr/lib/python3.6/site-packages/sklearn/model_selection/_search.py:667: DeprecationWarning: The grid_scores_ attribute was deprecated in version 0.18 in favor of the more elaborate cv_results_ attribute. The grid_scores_ attribute will not be available from 0.20\n",
      "  DeprecationWarning)\n"
     ]
    },
    {
     "data": {
      "text/plain": [
       "([mean: -0.06910, std: 0.00356, params: {'reg_alpha': 0},\n",
       "  mean: -0.06910, std: 0.00356, params: {'reg_alpha': 1e-05},\n",
       "  mean: -0.06910, std: 0.00356, params: {'reg_alpha': 0.01},\n",
       "  mean: -0.06911, std: 0.00355, params: {'reg_alpha': 0.1},\n",
       "  mean: -0.06911, std: 0.00356, params: {'reg_alpha': 1},\n",
       "  mean: -0.06919, std: 0.00367, params: {'reg_alpha': 100}],\n",
       " {'reg_alpha': 1e-05},\n",
       " -0.069100115727457875)"
      ]
     },
     "execution_count": 34,
     "metadata": {},
     "output_type": "execute_result"
    }
   ],
   "source": [
    "param_test6 = {\n",
    " 'reg_alpha':[0, 1e-5, 1e-2, 0.1, 1, 100]\n",
    "}\n",
    "\n",
    "gsearch6 = GridSearchCV(\n",
    "    estimator = XGBRegressor( \n",
    "        learning_rate =0.1,\n",
    "        n_estimators=n_trees,\n",
    "        max_depth=max_depth,\n",
    "        min_child_weight=min_child_weight,\n",
    "        gamma=gamma,\n",
    "        subsample=subsample,\n",
    "        colsample_bytree=colsample_bytree,\n",
    "        objective= 'reg:linear',\n",
    "        nthread=2,\n",
    "        scale_pos_weight=1,\n",
    "        seed=27\n",
    "    ), \n",
    "    param_grid = param_test6,\n",
    "    scoring=make_scorer(mean_absolute_error, greater_is_better=False),\n",
    "    n_jobs=1,\n",
    "    iid=False,\n",
    "    cv=10\n",
    ")\n",
    "\n",
    "gsearch6.fit(X, y)\n",
    "gsearch6.grid_scores_, gsearch6.best_params_, gsearch6.best_score_"
   ]
  },
  {
   "cell_type": "code",
   "execution_count": 35,
   "metadata": {},
   "outputs": [
    {
     "name": "stdout",
     "output_type": "stream",
     "text": [
      "1e-05\n"
     ]
    }
   ],
   "source": [
    "reg_alpha = gsearch6.best_params_['reg_alpha']\n",
    "print(reg_alpha)"
   ]
  },
  {
   "cell_type": "code",
   "execution_count": 68,
   "metadata": {
    "collapsed": true
   },
   "outputs": [],
   "source": [
    "# from https://www.kaggle.com/raviannaswamy/simple-lightgbm-starter-lb-0-06487\n",
    "#params = dict()\n",
    "#params['max_bin'] = 10\n",
    "#params['learning_rate'] = 0.0021 # shrinkage_rate\n",
    "#params['boosting_type'] = 'gbdt'\n",
    "#params['objective'] = 'regression'\n",
    "#params['metric'] = 'l2'          # or 'mae'\n",
    "#params['sub_feature'] = 0.5      # feature_fraction \n",
    "#params['bagging_fraction'] = 0.85 # sub_row\n",
    "#params['bagging_freq'] = 40\n",
    "#params['num_leaves'] = 512        # num_leaf\n",
    "#params['min_data'] = 400         # min_data_in_leaf\n",
    "#params['min_hessian'] = 0.05     # min_sum_hessian_in_leaf\n",
    "\n",
    "\n",
    "# 0.069088: \n",
    "#xgb3 = XGBRegressor(\n",
    "#    learning_rate =0.0021,\n",
    "#    n_estimators=20000,\n",
    "#    max_depth=max_depth,\n",
    "#    min_child_weight=min_child_weight,\n",
    "#    gamma=gamma,\n",
    "#    subsample=subsample,\n",
    "#    colsample_bytree=colsample_bytree,\n",
    "#    objective='reg:linear',\n",
    "#    nthread=2,\n",
    "#    seed=27\n",
    "#)\n",
    "\n",
    "xgb3 = XGBRegressor(base_score=0.0, booster='gbtree', colsample_bylevel=1,\n",
    "       colsample_bytree=0.7, gamma=0., learning_rate=0.0021,\n",
    "       max_delta_step=0, max_depth=3, min_child_weight=6, missing=None,\n",
    "       n_estimators=80000, nthread=3, objective='reg:linear',\n",
    "       random_state=0, reg_alpha=1.7, reg_lambda=1, scale_pos_weight=1,\n",
    "       seed=0, silent=1, subsample=0.95)\n",
    "\n",
    "\n",
    "cvresult = xgb.cv(\n",
    "    xgb3.get_xgb_params(),\n",
    "    xgtrain,\n",
    "    num_boost_round=xgb3.get_params()['n_estimators'],\n",
    "    nfold=10,\n",
    "    metrics='mae',\n",
    "    early_stopping_rounds=50,\n",
    "    verbose_eval=False\n",
    ")"
   ]
  },
  {
   "cell_type": "code",
   "execution_count": 69,
   "metadata": {},
   "outputs": [
    {
     "name": "stdout",
     "output_type": "stream",
     "text": [
      "582\n"
     ]
    },
    {
     "data": {
      "text/html": [
       "<div>\n",
       "<style>\n",
       "    .dataframe thead tr:only-child th {\n",
       "        text-align: right;\n",
       "    }\n",
       "\n",
       "    .dataframe thead th {\n",
       "        text-align: left;\n",
       "    }\n",
       "\n",
       "    .dataframe tbody tr th {\n",
       "        vertical-align: top;\n",
       "    }\n",
       "</style>\n",
       "<table border=\"1\" class=\"dataframe\">\n",
       "  <thead>\n",
       "    <tr style=\"text-align: right;\">\n",
       "      <th></th>\n",
       "      <th>test-mae-mean</th>\n",
       "      <th>test-mae-std</th>\n",
       "      <th>train-mae-mean</th>\n",
       "      <th>train-mae-std</th>\n",
       "    </tr>\n",
       "  </thead>\n",
       "  <tbody>\n",
       "    <tr>\n",
       "      <th>577</th>\n",
       "      <td>0.06873</td>\n",
       "      <td>0.001323</td>\n",
       "      <td>0.068619</td>\n",
       "      <td>0.000166</td>\n",
       "    </tr>\n",
       "    <tr>\n",
       "      <th>578</th>\n",
       "      <td>0.06873</td>\n",
       "      <td>0.001323</td>\n",
       "      <td>0.068618</td>\n",
       "      <td>0.000166</td>\n",
       "    </tr>\n",
       "    <tr>\n",
       "      <th>579</th>\n",
       "      <td>0.06873</td>\n",
       "      <td>0.001323</td>\n",
       "      <td>0.068618</td>\n",
       "      <td>0.000166</td>\n",
       "    </tr>\n",
       "    <tr>\n",
       "      <th>580</th>\n",
       "      <td>0.06873</td>\n",
       "      <td>0.001323</td>\n",
       "      <td>0.068618</td>\n",
       "      <td>0.000166</td>\n",
       "    </tr>\n",
       "    <tr>\n",
       "      <th>581</th>\n",
       "      <td>0.06873</td>\n",
       "      <td>0.001323</td>\n",
       "      <td>0.068618</td>\n",
       "      <td>0.000166</td>\n",
       "    </tr>\n",
       "  </tbody>\n",
       "</table>\n",
       "</div>"
      ],
      "text/plain": [
       "     test-mae-mean  test-mae-std  train-mae-mean  train-mae-std\n",
       "577        0.06873      0.001323        0.068619       0.000166\n",
       "578        0.06873      0.001323        0.068618       0.000166\n",
       "579        0.06873      0.001323        0.068618       0.000166\n",
       "580        0.06873      0.001323        0.068618       0.000166\n",
       "581        0.06873      0.001323        0.068618       0.000166"
      ]
     },
     "execution_count": 69,
     "metadata": {},
     "output_type": "execute_result"
    }
   ],
   "source": [
    "n_trees = len(cvresult)\n",
    "print(n_trees)\n",
    "cvresult.tail()"
   ]
  },
  {
   "cell_type": "code",
   "execution_count": 62,
   "metadata": {},
   "outputs": [
    {
     "data": {
      "text/plain": [
       "XGBRegressor(base_score=0.5, booster='gbtree', colsample_bylevel=1,\n",
       "       colsample_bytree=0.7, gamma=0.3, learning_rate=0.001,\n",
       "       max_delta_step=0, max_depth=5, min_child_weight=5, missing=None,\n",
       "       n_estimators=800, n_jobs=2, nthread=2, objective='reg:linear',\n",
       "       random_state=0, reg_alpha=1.7, reg_lambda=1, scale_pos_weight=1,\n",
       "       seed=0, silent=0, subsample=0.95)"
      ]
     },
     "execution_count": 62,
     "metadata": {},
     "output_type": "execute_result"
    }
   ],
   "source": [
    "#clf = XGBRegressor(\n",
    "#    learning_rate=0.1,\n",
    "#    n_estimators=n_trees,\n",
    "#    max_depth=max_depth,\n",
    "#    min_child_weight=min_child_weight,\n",
    "#    gamma=gamma,\n",
    "#    subsample=subsample,\n",
    "#    colsample_bytree=colsample_bytree,\n",
    "#    objective='reg:linear',\n",
    "#    nthread=2,\n",
    "#    seed=27\n",
    "#)\n",
    "\n",
    "clf = XGBRegressor(base_score=0.5, booster='gbtree', colsample_bylevel=1,\n",
    "       colsample_bytree=0.7, gamma=0.3, learning_rate=0.001,\n",
    "       max_delta_step=0, max_depth=5, min_child_weight=5, missing=None,\n",
    "       n_estimators=800, n_jobs=2, nthread=2, objective='reg:linear',\n",
    "       random_state=0, reg_alpha=1.7, reg_lambda=1, scale_pos_weight=1,\n",
    "       seed=0, silent=0, subsample=0.95)\n",
    "\n",
    "clf.fit(X, y)"
   ]
  },
  {
   "cell_type": "code",
   "execution_count": 46,
   "metadata": {
    "collapsed": true
   },
   "outputs": [],
   "source": [
    "pred = clf.predict(X)"
   ]
  },
  {
   "cell_type": "code",
   "execution_count": 63,
   "metadata": {},
   "outputs": [
    {
     "name": "stdout",
     "output_type": "stream",
     "text": [
      "-2.34014869633e-05\n",
      "0.161190922352\n"
     ]
    }
   ],
   "source": [
    "print(np.mean(y-pred))\n",
    "print(np.std(y-pred))"
   ]
  },
  {
   "cell_type": "code",
   "execution_count": 64,
   "metadata": {},
   "outputs": [
    {
     "name": "stdout",
     "output_type": "stream",
     "text": [
      "0.0687760336549\n",
      "0.0687736725812\n"
     ]
    }
   ],
   "source": [
    "print(mean_absolute_error(y, pred))\n",
    "print(mean_absolute_error(y, pred + np.mean(y-pred)))"
   ]
  },
  {
   "cell_type": "code",
   "execution_count": 144,
   "metadata": {
    "collapsed": true
   },
   "outputs": [],
   "source": [
    "target_data = pd.read_csv('data/sample_submission.csv')"
   ]
  },
  {
   "cell_type": "code",
   "execution_count": 145,
   "metadata": {},
   "outputs": [
    {
     "name": "stdout",
     "output_type": "stream",
     "text": [
      "2985217\n"
     ]
    },
    {
     "data": {
      "text/html": [
       "<div>\n",
       "<style>\n",
       "    .dataframe thead tr:only-child th {\n",
       "        text-align: right;\n",
       "    }\n",
       "\n",
       "    .dataframe thead th {\n",
       "        text-align: left;\n",
       "    }\n",
       "\n",
       "    .dataframe tbody tr th {\n",
       "        vertical-align: top;\n",
       "    }\n",
       "</style>\n",
       "<table border=\"1\" class=\"dataframe\">\n",
       "  <thead>\n",
       "    <tr style=\"text-align: right;\">\n",
       "      <th></th>\n",
       "      <th>ParcelId</th>\n",
       "      <th>201610</th>\n",
       "      <th>201611</th>\n",
       "      <th>201612</th>\n",
       "      <th>201710</th>\n",
       "      <th>201711</th>\n",
       "      <th>201712</th>\n",
       "    </tr>\n",
       "  </thead>\n",
       "  <tbody>\n",
       "    <tr>\n",
       "      <th>0</th>\n",
       "      <td>10754147</td>\n",
       "      <td>0</td>\n",
       "      <td>0</td>\n",
       "      <td>0</td>\n",
       "      <td>0</td>\n",
       "      <td>0</td>\n",
       "      <td>0</td>\n",
       "    </tr>\n",
       "    <tr>\n",
       "      <th>1</th>\n",
       "      <td>10759547</td>\n",
       "      <td>0</td>\n",
       "      <td>0</td>\n",
       "      <td>0</td>\n",
       "      <td>0</td>\n",
       "      <td>0</td>\n",
       "      <td>0</td>\n",
       "    </tr>\n",
       "    <tr>\n",
       "      <th>2</th>\n",
       "      <td>10843547</td>\n",
       "      <td>0</td>\n",
       "      <td>0</td>\n",
       "      <td>0</td>\n",
       "      <td>0</td>\n",
       "      <td>0</td>\n",
       "      <td>0</td>\n",
       "    </tr>\n",
       "    <tr>\n",
       "      <th>3</th>\n",
       "      <td>10859147</td>\n",
       "      <td>0</td>\n",
       "      <td>0</td>\n",
       "      <td>0</td>\n",
       "      <td>0</td>\n",
       "      <td>0</td>\n",
       "      <td>0</td>\n",
       "    </tr>\n",
       "    <tr>\n",
       "      <th>4</th>\n",
       "      <td>10879947</td>\n",
       "      <td>0</td>\n",
       "      <td>0</td>\n",
       "      <td>0</td>\n",
       "      <td>0</td>\n",
       "      <td>0</td>\n",
       "      <td>0</td>\n",
       "    </tr>\n",
       "  </tbody>\n",
       "</table>\n",
       "</div>"
      ],
      "text/plain": [
       "   ParcelId  201610  201611  201612  201710  201711  201712\n",
       "0  10754147       0       0       0       0       0       0\n",
       "1  10759547       0       0       0       0       0       0\n",
       "2  10843547       0       0       0       0       0       0\n",
       "3  10859147       0       0       0       0       0       0\n",
       "4  10879947       0       0       0       0       0       0"
      ]
     },
     "execution_count": 145,
     "metadata": {},
     "output_type": "execute_result"
    }
   ],
   "source": [
    "print(len(target_data))\n",
    "target_data.head()"
   ]
  },
  {
   "cell_type": "code",
   "execution_count": 147,
   "metadata": {
    "collapsed": true
   },
   "outputs": [],
   "source": [
    "target_props = data_X[data_X['parcelid'].isin(target_data.ParcelId)]"
   ]
  },
  {
   "cell_type": "code",
   "execution_count": 148,
   "metadata": {
    "collapsed": true
   },
   "outputs": [],
   "source": [
    "for f in ['hashottuborspa', 'fireplaceflag', 'taxdelinquencyflag']:\n",
    "    target_props[f] = target_props[f].astype(np.bool)"
   ]
  },
  {
   "cell_type": "code",
   "execution_count": 149,
   "metadata": {},
   "outputs": [
    {
     "ename": "ValueError",
     "evalue": "feature_names mismatch: ['f0', 'f1', 'f2', 'f3', 'f4', 'f5', 'f6', 'f7', 'f8', 'f9', 'f10', 'f11', 'f12', 'f13', 'f14', 'f15', 'f16', 'f17', 'f18', 'f19', 'f20', 'f21', 'f22', 'f23', 'f24', 'f25', 'f26', 'f27', 'f28', 'f29', 'f30', 'f31', 'f32', 'f33', 'f34', 'f35', 'f36', 'f37', 'f38', 'f39', 'f40', 'f41', 'f42', 'f43', 'f44', 'f45', 'f46', 'f47', 'f48', 'f49', 'f50', 'f51', 'f52', 'f53', 'f54', 'f55'] ['f0', 'f1', 'f2', 'f3', 'f4', 'f5', 'f6', 'f7', 'f8', 'f9', 'f10', 'f11', 'f12', 'f13', 'f14', 'f15', 'f16', 'f17', 'f18', 'f19', 'f20', 'f21', 'f22', 'f23', 'f24', 'f25', 'f26', 'f27', 'f28', 'f29', 'f30', 'f31', 'f32', 'f33', 'f34', 'f35', 'f36', 'f37', 'f38', 'f39', 'f40', 'f41', 'f42', 'f43', 'f44', 'f45', 'f46', 'f47', 'f48', 'f49', 'f50', 'f51', 'f52', 'f53', 'f54']\nexpected f55 in input data",
     "output_type": "error",
     "traceback": [
      "\u001b[0;31m---------------------------------------------------------------------------\u001b[0m",
      "\u001b[0;31mValueError\u001b[0m                                Traceback (most recent call last)",
      "\u001b[0;32m<ipython-input-149-0b8a635f3250>\u001b[0m in \u001b[0;36m<module>\u001b[0;34m()\u001b[0m\n\u001b[1;32m      1\u001b[0m target_pred = clf.predict(target_props.drop(\n\u001b[1;32m      2\u001b[0m         \u001b[0;34m[\u001b[0m\u001b[0;34m'parcelid'\u001b[0m\u001b[0;34m,\u001b[0m \u001b[0;34m'propertyzoningdesc'\u001b[0m\u001b[0;34m,\u001b[0m \u001b[0;34m'propertycountylandusecode'\u001b[0m\u001b[0;34m]\u001b[0m\u001b[0;34m,\u001b[0m\u001b[0;34m\u001b[0m\u001b[0m\n\u001b[0;32m----> 3\u001b[0;31m         \u001b[0maxis\u001b[0m\u001b[0;34m=\u001b[0m\u001b[0;36m1\u001b[0m\u001b[0;34m\u001b[0m\u001b[0m\n\u001b[0m\u001b[1;32m      4\u001b[0m     ).values)\n",
      "\u001b[0;32m/usr/lib/python3.6/site-packages/xgboost/sklearn.py\u001b[0m in \u001b[0;36mpredict\u001b[0;34m(self, data, output_margin, ntree_limit)\u001b[0m\n\u001b[1;32m    311\u001b[0m         return self.get_booster().predict(test_dmatrix,\n\u001b[1;32m    312\u001b[0m                                           \u001b[0moutput_margin\u001b[0m\u001b[0;34m=\u001b[0m\u001b[0moutput_margin\u001b[0m\u001b[0;34m,\u001b[0m\u001b[0;34m\u001b[0m\u001b[0m\n\u001b[0;32m--> 313\u001b[0;31m                                           ntree_limit=ntree_limit)\n\u001b[0m\u001b[1;32m    314\u001b[0m \u001b[0;34m\u001b[0m\u001b[0m\n\u001b[1;32m    315\u001b[0m     \u001b[0;32mdef\u001b[0m \u001b[0mapply\u001b[0m\u001b[0;34m(\u001b[0m\u001b[0mself\u001b[0m\u001b[0;34m,\u001b[0m \u001b[0mX\u001b[0m\u001b[0;34m,\u001b[0m \u001b[0mntree_limit\u001b[0m\u001b[0;34m=\u001b[0m\u001b[0;36m0\u001b[0m\u001b[0;34m)\u001b[0m\u001b[0;34m:\u001b[0m\u001b[0;34m\u001b[0m\u001b[0m\n",
      "\u001b[0;32m/usr/lib/python3.6/site-packages/xgboost/core.py\u001b[0m in \u001b[0;36mpredict\u001b[0;34m(self, data, output_margin, ntree_limit, pred_leaf, pred_contribs)\u001b[0m\n\u001b[1;32m    966\u001b[0m             \u001b[0moption_mask\u001b[0m \u001b[0;34m|=\u001b[0m \u001b[0;36m0x04\u001b[0m\u001b[0;34m\u001b[0m\u001b[0m\n\u001b[1;32m    967\u001b[0m \u001b[0;34m\u001b[0m\u001b[0m\n\u001b[0;32m--> 968\u001b[0;31m         \u001b[0mself\u001b[0m\u001b[0;34m.\u001b[0m\u001b[0m_validate_features\u001b[0m\u001b[0;34m(\u001b[0m\u001b[0mdata\u001b[0m\u001b[0;34m)\u001b[0m\u001b[0;34m\u001b[0m\u001b[0m\n\u001b[0m\u001b[1;32m    969\u001b[0m \u001b[0;34m\u001b[0m\u001b[0m\n\u001b[1;32m    970\u001b[0m         \u001b[0mlength\u001b[0m \u001b[0;34m=\u001b[0m \u001b[0mc_bst_ulong\u001b[0m\u001b[0;34m(\u001b[0m\u001b[0;34m)\u001b[0m\u001b[0;34m\u001b[0m\u001b[0m\n",
      "\u001b[0;32m/usr/lib/python3.6/site-packages/xgboost/core.py\u001b[0m in \u001b[0;36m_validate_features\u001b[0;34m(self, data)\u001b[0m\n\u001b[1;32m   1210\u001b[0m \u001b[0;34m\u001b[0m\u001b[0m\n\u001b[1;32m   1211\u001b[0m                 raise ValueError(msg.format(self.feature_names,\n\u001b[0;32m-> 1212\u001b[0;31m                                             data.feature_names))\n\u001b[0m\u001b[1;32m   1213\u001b[0m \u001b[0;34m\u001b[0m\u001b[0m\n\u001b[1;32m   1214\u001b[0m     \u001b[0;32mdef\u001b[0m \u001b[0mget_split_value_histogram\u001b[0m\u001b[0;34m(\u001b[0m\u001b[0mself\u001b[0m\u001b[0;34m,\u001b[0m \u001b[0mfeature\u001b[0m\u001b[0;34m,\u001b[0m \u001b[0mfmap\u001b[0m\u001b[0;34m=\u001b[0m\u001b[0;34m''\u001b[0m\u001b[0;34m,\u001b[0m \u001b[0mbins\u001b[0m\u001b[0;34m=\u001b[0m\u001b[0;32mNone\u001b[0m\u001b[0;34m,\u001b[0m \u001b[0mas_pandas\u001b[0m\u001b[0;34m=\u001b[0m\u001b[0;32mTrue\u001b[0m\u001b[0;34m)\u001b[0m\u001b[0;34m:\u001b[0m\u001b[0;34m\u001b[0m\u001b[0m\n",
      "\u001b[0;31mValueError\u001b[0m: feature_names mismatch: ['f0', 'f1', 'f2', 'f3', 'f4', 'f5', 'f6', 'f7', 'f8', 'f9', 'f10', 'f11', 'f12', 'f13', 'f14', 'f15', 'f16', 'f17', 'f18', 'f19', 'f20', 'f21', 'f22', 'f23', 'f24', 'f25', 'f26', 'f27', 'f28', 'f29', 'f30', 'f31', 'f32', 'f33', 'f34', 'f35', 'f36', 'f37', 'f38', 'f39', 'f40', 'f41', 'f42', 'f43', 'f44', 'f45', 'f46', 'f47', 'f48', 'f49', 'f50', 'f51', 'f52', 'f53', 'f54', 'f55'] ['f0', 'f1', 'f2', 'f3', 'f4', 'f5', 'f6', 'f7', 'f8', 'f9', 'f10', 'f11', 'f12', 'f13', 'f14', 'f15', 'f16', 'f17', 'f18', 'f19', 'f20', 'f21', 'f22', 'f23', 'f24', 'f25', 'f26', 'f27', 'f28', 'f29', 'f30', 'f31', 'f32', 'f33', 'f34', 'f35', 'f36', 'f37', 'f38', 'f39', 'f40', 'f41', 'f42', 'f43', 'f44', 'f45', 'f46', 'f47', 'f48', 'f49', 'f50', 'f51', 'f52', 'f53', 'f54']\nexpected f55 in input data"
     ]
    }
   ],
   "source": [
    "X = merged_data.drop(\n",
    "    ['parcelid', 'logerror', 'transactiondate', 'propertyzoningdesc', 'propertycountylandusecode'],\n",
    "    axis=1).values\n",
    "\n",
    "target_pred = clf.predict(target_props.drop(\n",
    "        ['parcelid', 'propertyzoningdesc', 'propertycountylandusecode'],\n",
    "        axis=1\n",
    "    ).values)"
   ]
  },
  {
   "cell_type": "code",
   "execution_count": 151,
   "metadata": {},
   "outputs": [
    {
     "data": {
      "text/plain": [
       "(90811, 56)"
      ]
     },
     "execution_count": 151,
     "metadata": {},
     "output_type": "execute_result"
    }
   ],
   "source": [
    "X.shape"
   ]
  },
  {
   "cell_type": "code",
   "execution_count": 152,
   "metadata": {},
   "outputs": [
    {
     "data": {
      "text/plain": [
       "(2985217, 55)"
      ]
     },
     "execution_count": 152,
     "metadata": {},
     "output_type": "execute_result"
    }
   ],
   "source": [
    "target_props.drop(\n",
    "        ['parcelid', 'propertyzoningdesc', 'propertycountylandusecode'],\n",
    "        axis=1\n",
    "    ).shape"
   ]
  },
  {
   "cell_type": "code",
   "execution_count": 154,
   "metadata": {},
   "outputs": [
    {
     "data": {
      "text/plain": [
       "Index(['month', 'airconditioningtypeid', 'architecturalstyletypeid',\n",
       "       'basementsqft', 'bathroomcnt', 'bedroomcnt', 'buildingclasstypeid',\n",
       "       'buildingqualitytypeid', 'calculatedbathnbr', 'decktypeid',\n",
       "       'finishedfloor1squarefeet', 'calculatedfinishedsquarefeet',\n",
       "       'finishedsquarefeet12', 'finishedsquarefeet13', 'finishedsquarefeet15',\n",
       "       'finishedsquarefeet50', 'finishedsquarefeet6', 'fips', 'fireplacecnt',\n",
       "       'fullbathcnt', 'garagecarcnt', 'garagetotalsqft', 'hashottuborspa',\n",
       "       'heatingorsystemtypeid', 'latitude', 'longitude', 'lotsizesquarefeet',\n",
       "       'poolcnt', 'poolsizesum', 'pooltypeid10', 'pooltypeid2', 'pooltypeid7',\n",
       "       'propertylandusetypeid', 'rawcensustractandblock', 'regionidcity',\n",
       "       'regionidcounty', 'regionidneighborhood', 'regionidzip', 'roomcnt',\n",
       "       'storytypeid', 'threequarterbathnbr', 'typeconstructiontypeid',\n",
       "       'unitcnt', 'yardbuildingsqft17', 'yardbuildingsqft26', 'yearbuilt',\n",
       "       'numberofstories', 'fireplaceflag', 'structuretaxvaluedollarcnt',\n",
       "       'taxvaluedollarcnt', 'assessmentyear', 'landtaxvaluedollarcnt',\n",
       "       'taxamount', 'taxdelinquencyflag', 'taxdelinquencyyear',\n",
       "       'censustractandblock'],\n",
       "      dtype='object')"
      ]
     },
     "execution_count": 154,
     "metadata": {},
     "output_type": "execute_result"
    }
   ],
   "source": [
    "merged_data.drop(\n",
    "    ['parcelid', 'logerror', 'transactiondate', 'propertyzoningdesc', 'propertycountylandusecode'],\n",
    "    axis=1).columns"
   ]
  },
  {
   "cell_type": "code",
   "execution_count": 89,
   "metadata": {
    "collapsed": true
   },
   "outputs": [],
   "source": [
    "for c in target_data.columns[target_data.columns != 'ParcelId']:\n",
    "    target_data[c] = target_pred"
   ]
  },
  {
   "cell_type": "code",
   "execution_count": null,
   "metadata": {
    "collapsed": true
   },
   "outputs": [],
   "source": [
    "target_pred.to_csv('zillow_prediction.csv', index=False, float_format='%.4g')"
   ]
  }
 ],
 "metadata": {
  "kernelspec": {
   "display_name": "Python 3",
   "language": "python",
   "name": "python3"
  },
  "language_info": {
   "codemirror_mode": {
    "name": "ipython",
    "version": 3
   },
   "file_extension": ".py",
   "mimetype": "text/x-python",
   "name": "python",
   "nbconvert_exporter": "python",
   "pygments_lexer": "ipython3",
   "version": "3.6.1"
  }
 },
 "nbformat": 4,
 "nbformat_minor": 2
}
